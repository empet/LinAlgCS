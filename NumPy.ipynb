{
 "cells": [
  {
   "cell_type": "markdown",
   "metadata": {},
   "source": [
    "# NumPy"
   ]
  },
  {
   "cell_type": "markdown",
   "metadata": {},
   "source": [
    "Functionalitatea Python este asigurata de module. Un modul este un fisier Python ce contine definitii si instructiuni destinate implementarii unei anumite problematici. Numele fisierului este `NumeModul.py`.\n",
    "\n",
    "Exista module pe care si le creaza un programator pentru a organiza codul. De exemplu pentru\n",
    "a implementa calculul formei scara redusa definim modulul `Formascara.py`, in care includem toate definitiile  si functiile  ce realizeaza aceasta reducere.\n",
    "\n",
    "Pentru a folosi acest modul intr-un alt program, `SistemLin.py`, importam modulul, inserand in fisierul `SistemLin.py` linia:\n",
    "\n",
    "`import Formascara`\n",
    "\n",
    "O functie `Funct` din acest modul este apelata in `SistemLin.py` sub forma:\n",
    "\n",
    "`Formascara.Funct(argumente)`\n",
    "\n",
    "Pentru a evita scrierea unor nume lungi de module se practica redenumirea lor in linia de import:\n",
    "\n",
    "`import Formascara as Fs`\n",
    "\n",
    "In acest caz apelul functiei va fi:\n",
    "\n",
    "`Fs.Funct(argumente)`"
   ]
  },
  {
   "cell_type": "markdown",
   "metadata": {},
   "source": [
    "Biblioteca standard a limbajului Python contine numeroase module. De interes pentru matematica sunt modulele\n",
    "`math` si `cmath`. \n",
    "\n",
    "Modulul `math` contine  functiile matematice uzuale, de argument real (numere in virgula mobila).\n",
    "De exemplu daca intr-un fisier sursa `Test.py` sau in IPython Notebook importam modulul `math`, atunci o functie din acest modul se apeleaza in forma `math.NumeFunctie(argument)`."
   ]
  },
  {
   "cell_type": "code",
   "execution_count": 1,
   "metadata": {},
   "outputs": [
    {
     "name": "stdout",
     "output_type": "stream",
     "text": [
      "0.707106781187 0.707106781187\n"
     ]
    }
   ],
   "source": [
    "import math\n",
    "\n",
    "x=math.pi\n",
    "y=math.sin(x/4)\n",
    "z=math.sqrt(2)/2\n",
    "print y, z\n"
   ]
  },
  {
   "cell_type": "markdown",
   "metadata": {},
   "source": [
    "Lista functiilor din modulul `math` se gaseste aici:\n",
    "[http://docs.python.org/2/library/math.html](http://docs.python.org/2/library/math.html)  "
   ]
  },
  {
   "cell_type": "markdown",
   "metadata": {},
   "source": [
    "Modulul `cmath` contine functii de argument complex. Functiile din acest modul le vom folosi in semestrul 2."
   ]
  },
  {
   "cell_type": "markdown",
   "metadata": {},
   "source": [
    "O colectie de module se numeste pachet.\n",
    "\n",
    "Pachetele de baza pentru calcul stiintific in Python sunt `numpy` si `scipy`.\n",
    "\n",
    "Numele `numpy` este derivat de la `numerical Python`, iar `scipy` de la `scientific Python`."
   ]
  },
  {
   "cell_type": "markdown",
   "metadata": {},
   "source": [
    "Pachetul `numpy` contine printre altele:\n",
    "    \n",
    "  "
   ]
  },
  {
   "cell_type": "markdown",
   "metadata": {},
   "source": [
    "- definitia array-ului n-dimensional\n",
    "\n",
    "- functii care actioneaza asupra array-urilor\n",
    "\n",
    "- modulul `linalg`  ce contine functii specifice algebrei liniare, dar si alte module\n",
    "\n",
    "-  instrumente pentru a integra cod `C/C++`\n",
    "\n"
   ]
  },
  {
   "cell_type": "markdown",
   "metadata": {},
   "source": [
    "Cursul de Algebra liniara opereaza cu vectori si matrici.\n",
    "\n",
    " - Un vector din $\\mathbb{R}^n$ este reprezentat\n",
    "in `numpy` printr-un array de dimensiune 1 (il vom referi in continuare ca array 1D).\n",
    "\n",
    " - O matrice $A\\in\\mathbb{R}^{m\\times n}$ este un array 2-dimensional (2D)\n",
    "\n",
    "\n"
   ]
  },
  {
   "cell_type": "markdown",
   "metadata": {},
   "source": [
    "#### Modalitati de a crea array-uri"
   ]
  },
  {
   "cell_type": "markdown",
   "metadata": {},
   "source": [
    "Pentru a crea si  manipula array-uri intr-un program Python sau in IPython Notebook, se importa pachetul `numpy`:"
   ]
  },
  {
   "cell_type": "code",
   "execution_count": 2,
   "metadata": {},
   "outputs": [],
   "source": [
    "import numpy as np"
   ]
  },
  {
   "cell_type": "code",
   "execution_count": 3,
   "metadata": {},
   "outputs": [
    {
     "name": "stdout",
     "output_type": "stream",
     "text": [
      "[-2  1  4] [ 3.14 -1.    0.    5.2 ]\n"
     ]
    }
   ],
   "source": [
    "v=np.array([-2, 1, 4], dtype=int)\n",
    "w=np.array([3.14, -1, 0, 5.2], dtype=float)\n",
    "print v, w"
   ]
  },
  {
   "cell_type": "markdown",
   "metadata": {},
   "source": [
    "`v` si `w` sunt vectori carora li s-au precizat coordonatele si tipul elementelor, respectiv `int`\n",
    "si `float`"
   ]
  },
  {
   "cell_type": "code",
   "execution_count": 4,
   "metadata": {},
   "outputs": [
    {
     "name": "stdout",
     "output_type": "stream",
     "text": [
      "[[-1  2  4]\n",
      " [ 3  5  7]\n",
      " [ 2  0 -7]]\n"
     ]
    }
   ],
   "source": [
    "A=np.array([[-1,2,4], [3,5,7],[2,0,-7]], dtype=int)\n",
    "print A"
   ]
  },
  {
   "cell_type": "markdown",
   "metadata": {},
   "source": [
    "In declararea si initializarea array-urilor in acest fel se poate omite  `dtype` (data type) scriind doar tipul:"
   ]
  },
  {
   "cell_type": "code",
   "execution_count": 5,
   "metadata": {},
   "outputs": [
    {
     "name": "stdout",
     "output_type": "stream",
     "text": [
      "[-3  0  2]\n",
      "[[ 1.  5.]\n",
      " [-3.  4.]]\n"
     ]
    }
   ],
   "source": [
    "u=np.array([-3,0,2], int)\n",
    "B=np.array([[1,5],[-3,4]], float)\n",
    "print u\n",
    "print B"
   ]
  },
  {
   "cell_type": "markdown",
   "metadata": {},
   "source": [
    "Spre deosebire de Python standard, in `numpy` exista un numar mare de [tipuri de date](http://docs.scipy.org/doc/numpy/user/basics.types.html).\n",
    " \n",
    "    \n",
    "    "
   ]
  },
  {
   "cell_type": "markdown",
   "metadata": {},
   "source": [
    "Elementele unui array 1D, $u\\in\\mathbb{R}^n$,  se acceseaza `u[i]`, iar  indicele i ia valorile `0,1,..., n-1`, \n",
    "\n",
    "Elementele unui array 2D, `B`,  de dimensiuni `(m,n)` se acceseaza `B[i][j]` sau `B[i,j]`,\n",
    "`i=0,1, ..., m-1`, `j=0,1, ..., n-1`."
   ]
  },
  {
   "cell_type": "code",
   "execution_count": 6,
   "metadata": {},
   "outputs": [
    {
     "name": "stdout",
     "output_type": "stream",
     "text": [
      "-3\n",
      "5.0 4.0\n"
     ]
    }
   ],
   "source": [
    "print u[0]\n",
    "print B[0][1], B[1,1]"
   ]
  },
  {
   "cell_type": "markdown",
   "metadata": {},
   "source": [
    "Crearea unui array vid, adica a unui array de dimensiuni prescrise de un `tuple`, dar neinitializat, se realizeaza astfel:"
   ]
  },
  {
   "cell_type": "code",
   "execution_count": 7,
   "metadata": {},
   "outputs": [],
   "source": [
    "x=np.empty(4)\n",
    "B=np.empty((2,3))"
   ]
  },
  {
   "cell_type": "markdown",
   "metadata": {},
   "source": [
    "x este un vector din $\\mathbb{R}^{4}$, care eventual se va initializa cu elemente de tip `float`, iar B este un array de 2 linii si 3 coloane (vezi tuple-ul (2,3) in definitie).\n",
    "\n",
    "\n"
   ]
  },
  {
   "cell_type": "code",
   "execution_count": 8,
   "metadata": {},
   "outputs": [
    {
     "name": "stdout",
     "output_type": "stream",
     "text": [
      "[ 0.  0.  0.]\n",
      "[[ 0.  0.  0.  0.]\n",
      " [ 0.  0.  0.  0.]\n",
      " [ 0.  0.  0.  0.]\n",
      " [ 0.  0.  0.  0.]]\n"
     ]
    }
   ],
   "source": [
    "y=np.zeros(3)\n",
    "C=np.zeros((4,4))\n",
    "print y\n",
    "print C"
   ]
  },
  {
   "cell_type": "markdown",
   "metadata": {},
   "source": [
    "`np.zeros(n)`  si respectiv `np.zeros((m,n))` creaza array-uri si initializeaza elementele lor cu zero, implicit de tip float."
   ]
  },
  {
   "cell_type": "code",
   "execution_count": 9,
   "metadata": {},
   "outputs": [
    {
     "name": "stdout",
     "output_type": "stream",
     "text": [
      "[1 1 1 1]\n",
      "[[1 1 1]\n",
      " [1 1 1]\n",
      " [1 1 1]]\n"
     ]
    }
   ],
   "source": [
    "u=np.ones(4, int)\n",
    "M=np.ones((3,3), int)\n",
    "print u\n",
    "print M"
   ]
  },
  {
   "cell_type": "markdown",
   "metadata": {},
   "source": [
    "`np.ones` creaza un array cu toate elementele egale cu 1."
   ]
  },
  {
   "cell_type": "code",
   "execution_count": 10,
   "metadata": {},
   "outputs": [
    {
     "name": "stdout",
     "output_type": "stream",
     "text": [
      "[ 1  4  6 -3] [ 0.  0.  0.  0.]\n"
     ]
    }
   ],
   "source": [
    "v=np.array([1,4,6,-3], int)\n",
    "z=np.zeros_like(v, float)\n",
    "print v, z"
   ]
  },
  {
   "cell_type": "markdown",
   "metadata": {},
   "source": [
    "`np.zeros_like(A)` creaza un array de aceleasi dimensiuni ca `A`, dar de elemente 0."
   ]
  },
  {
   "cell_type": "markdown",
   "metadata": {},
   "source": [
    "`np.eye(n)` genereaza matricea unitate $I_n$, avand elementele de tip implicit `float`:"
   ]
  },
  {
   "cell_type": "code",
   "execution_count": 11,
   "metadata": {},
   "outputs": [
    {
     "name": "stdout",
     "output_type": "stream",
     "text": [
      "[[ 1.  0.  0.]\n",
      " [ 0.  1.  0.]\n",
      " [ 0.  0.  1.]]\n"
     ]
    }
   ],
   "source": [
    "I=np.eye(3)\n",
    "print I"
   ]
  },
  {
   "cell_type": "markdown",
   "metadata": {},
   "source": [
    "Daca dorim sa generam o matrice unitate cu elemente de tip `int` atunci se apeleeaza `np.eye` astfel:\n",
    "    "
   ]
  },
  {
   "cell_type": "code",
   "execution_count": 12,
   "metadata": {},
   "outputs": [
    {
     "name": "stdout",
     "output_type": "stream",
     "text": [
      "[[1 0]\n",
      " [0 1]]\n"
     ]
    }
   ],
   "source": [
    "J=np.eye(2, dtype=int)\n",
    "print J"
   ]
  },
  {
   "cell_type": "markdown",
   "metadata": {},
   "source": [
    "**Conversia listelor si tuple-urilor in array-uri**"
   ]
  },
  {
   "cell_type": "code",
   "execution_count": 13,
   "metadata": {},
   "outputs": [
    {
     "name": "stdout",
     "output_type": "stream",
     "text": [
      "(3, 4, 7)\n",
      "[3 4 7]\n"
     ]
    }
   ],
   "source": [
    "t=(3,4,7)# acesta este un tuple\n",
    "ta=np.asarray(t)\n",
    "\n",
    "print t\n",
    "print ta"
   ]
  },
  {
   "cell_type": "code",
   "execution_count": 14,
   "metadata": {},
   "outputs": [
    {
     "name": "stdout",
     "output_type": "stream",
     "text": [
      "<type 'list'> [5, 6, 8, 11]\n",
      "<type 'numpy.ndarray'> [  5.   6.   8.  11.]\n"
     ]
    }
   ],
   "source": [
    "L=[5,6,8,11]\n",
    "\n",
    "print type(L), L\n",
    "La=np.asarray(L, float)\n",
    "print type(La), La\n"
   ]
  },
  {
   "cell_type": "markdown",
   "metadata": {},
   "source": [
    "`np.asarray(Ob)` converteste obiectul `Ob` (in cazul de mai sus un tuple si respectiv o lista de date numerice) la un array."
   ]
  },
  {
   "cell_type": "code",
   "execution_count": 15,
   "metadata": {},
   "outputs": [
    {
     "name": "stdout",
     "output_type": "stream",
     "text": [
      "[[ 1.  2.  3.]\n",
      " [ 4.  5.  6.]]\n",
      "[[ 1.  2.  3.]\n",
      " [ 4.  5.  6.]]\n",
      "[[ 1.  2.  3.]\n",
      " [ 4.  5. -7.]]\n",
      "[[ 1.  2.  3.]\n",
      " [ 4.  5.  6.]]\n"
     ]
    }
   ],
   "source": [
    "A=np.array([[1,2,3],[4,5,6]], float)\n",
    "B=np.copy(A)\n",
    "print A\n",
    "print B\n",
    "\n",
    "A[1][2]=-7\n",
    "print A\n",
    "print B"
   ]
  },
  {
   "cell_type": "markdown",
   "metadata": {},
   "source": [
    "`np.copy(A)` creaza un nou array cu aceleasi elemente ca si A. Observam ca modificand un element in A si afisand din nou pe A si B,\n",
    "B nu s-a schimbat, deci este un array pentru care s-a alocat o zona separata de memorie."
   ]
  },
  {
   "cell_type": "markdown",
   "metadata": {},
   "source": [
    "De interes deosebit sunt functiile `np.arange` si `np.linspace`, care creaza array-uri speciale:"
   ]
  },
  {
   "cell_type": "code",
   "execution_count": 16,
   "metadata": {},
   "outputs": [
    {
     "name": "stdout",
     "output_type": "stream",
     "text": [
      "[0 1 2 3 4 5]\n",
      "[2 3 4 5 6 7 8]\n"
     ]
    }
   ],
   "source": [
    "n=6\n",
    "x=np.arange(6)\n",
    "print x\n",
    "xx=np.arange(2,9)\n",
    "print xx"
   ]
  },
  {
   "cell_type": "code",
   "execution_count": 17,
   "metadata": {},
   "outputs": [
    {
     "name": "stdout",
     "output_type": "stream",
     "text": [
      "[ 3  5  7  9 11]\n"
     ]
    }
   ],
   "source": [
    "y=np.arange(3,12,2)\n",
    "print y"
   ]
  },
  {
   "cell_type": "code",
   "execution_count": 18,
   "metadata": {},
   "outputs": [
    {
     "name": "stdout",
     "output_type": "stream",
     "text": [
      "[ 0.   0.3  0.6  0.9]\n"
     ]
    }
   ],
   "source": [
    "z=np.arange(0,1, 0.3)\n",
    "print z"
   ]
  },
  {
   "cell_type": "markdown",
   "metadata": {},
   "source": [
    "- Daca n este un numar intreg pozitiv, atunci `x=np.arange(n)` este vectorul de elemente\n",
    "`0,1, ..., n-1`.\n",
    "\n",
    "- `xx=np,arange(m,n)`, cu `m<n`, este vectorul de elemente `m, m+1, ..., n-1`\n",
    "                                 \n",
    "- v=`np.arrange(a, b, h)`, cu  `a<b` si `h>0`,  este vectorul de elemente `v[i]= a+i*h`, unde i ia valori de la 0 pana la\n",
    "valoarea maxima, `imax`, pentru care `a+imax*h<b`.\n",
    "                                                   \n",
    "- `a` este valoarea de start, `b` valoarea de stop, iar `h` este pasul cu care se divide intervalul\n",
    "    [a,b] prin puncte echidistante.\n",
    "                                                   \n",
    " - In definitia lui `y` avem  `a=3, b=12, h=2`\n",
    "    \n",
    " - In definitia lui z, `a=0, b=1, h=0.3`  \n",
    "    \n"
   ]
  },
  {
   "cell_type": "markdown",
   "metadata": {},
   "source": [
    "Pasul `h` poate fi si negativ. In acest caz, `x=np.arange(b,a,h)`, cu `b>a`,  genereaza vectorul \n",
    "de elemente `x[i]=b+i*h`, unde i ia valori de la 0 pana la valoarea maxima `imax` pt care `b+imax*h>a`."
   ]
  },
  {
   "cell_type": "code",
   "execution_count": 19,
   "metadata": {},
   "outputs": [
    {
     "name": "stdout",
     "output_type": "stream",
     "text": [
      "[10  9  8  7  6  5]\n"
     ]
    }
   ],
   "source": [
    "x=np.arange(10,4,-1)\n",
    "print x"
   ]
  },
  {
   "cell_type": "code",
   "execution_count": 20,
   "metadata": {},
   "outputs": [
    {
     "name": "stdout",
     "output_type": "stream",
     "text": [
      "[ 0.52359878  0.6981317   0.87266463  1.04719755  1.22173048  1.3962634\n",
      "  1.57079633  1.74532925  1.91986218  2.0943951 ]\n"
     ]
    }
   ],
   "source": [
    "x=np.linspace(np.pi/6, 2*np.pi/3, 10)\n",
    "print x"
   ]
  },
  {
   "cell_type": "markdown",
   "metadata": {},
   "source": [
    "`x=np.linspace(a, b, n)` este vectorul ale carui elemente se obtin divizand intervalul [a,b]\n",
    "prin n puncte echidistante. In exemplul precedent, intervalul $[\\pi/6, 2\\pi/3]$ a fost divizat\n",
    "prin 10 puncte echidistante."
   ]
  },
  {
   "cell_type": "markdown",
   "metadata": {},
   "source": [
    "`np.arange(a, b, h)` si `np.linspace(a,b,n)` se vor folosi pentru a genera grafice de functii, pentru a trasa curbe."
   ]
  },
  {
   "cell_type": "markdown",
   "metadata": {},
   "source": [
    "**Crearea unui array dintr-un fisier**"
   ]
  },
  {
   "cell_type": "markdown",
   "metadata": {},
   "source": [
    "Exemplele de mai sus au fost ilustrate prin array-uri cu numar redus de elemente. In problemele practice\n",
    "se lucreaza cu array-uri 1D sau 2D cu numar mare de elemente. In acest caz acestea se citesc din fisiere.\n"
   ]
  },
  {
   "cell_type": "markdown",
   "metadata": {},
   "source": [
    "Functia `numpy.loadtxt` citeste un fisier text ce contine\n",
    "date din care se pot construi array-uri.\n"
   ]
  },
  {
   "cell_type": "code",
   "execution_count": 21,
   "metadata": {},
   "outputs": [
    {
     "name": "stdout",
     "output_type": "stream",
     "text": [
      "[ 2.  3.  5.  7.  1. -2.  3.  0.  1.  6.  3.  2.  6.  3.  5.  2.  4.]\n",
      "17\n"
     ]
    }
   ],
   "source": [
    "v=np.loadtxt(\"Myfiles/vector.txt\")\n",
    "print v\n",
    "print v.size\n"
   ]
  },
  {
   "cell_type": "markdown",
   "metadata": {},
   "source": [
    "In fisierul  `vector.txt`  fiecare numar este scris pe o alta linie. \n",
    "Evident ca ele se pot scrie pe aceeasi linie separate de spatiu.\n",
    "\n",
    "Citind un astfel de fisier se genereaza un vector, care apoi se poate redimensiona la un array 2D, folosind metoda `reshape` ( a se vedea mai jos)."
   ]
  },
  {
   "cell_type": "code",
   "execution_count": 22,
   "metadata": {},
   "outputs": [
    {
     "name": "stdout",
     "output_type": "stream",
     "text": [
      "(5L, 5L)\n",
      "[  7.   4.   5.   2.  21.]\n"
     ]
    }
   ],
   "source": [
    "A=np.loadtxt(\"Myfiles/matrice.txt\")\n",
    "print A.shape\n",
    "print  A[:,1]"
   ]
  },
  {
   "cell_type": "markdown",
   "metadata": {},
   "source": [
    "In fisierul `matrice.txt` datele sunt inregistrate matricial, adica pe  5 linii si in fiecare linie sunt 5 valori. "
   ]
  },
  {
   "cell_type": "markdown",
   "metadata": {},
   "source": [
    "Functia `numpy.fromfile` construieste un array dintr-un fisier de date text sau binar, continand date de tip cunoscut.\n",
    "\n",
    "Exemple de utilizare a acestei functii vom da mai  tarziu.\n"
   ]
  },
  {
   "cell_type": "markdown",
   "metadata": {},
   "source": [
    "#### Metode asociate unui  array "
   ]
  },
  {
   "cell_type": "markdown",
   "metadata": {},
   "source": [
    "\n",
    "O metoda asociata unui array se apeleaza astfel: `NumeArray.metoda`."
   ]
  },
  {
   "cell_type": "markdown",
   "metadata": {},
   "source": [
    "`NumeArray.shape` returneaza un tuple cu un element pentru un array 1D, respectiv cu doua elemente pentru un array 2D. Din punctul de vedere al Algebrei liniare, elementul/elementele tuple-ului indica spatiul \n",
    " $\\mathbb{R}^n$, respectiv $\\mathbb{R}^{m\\times n}$, caruia apartine  array-ul respectiv."
   ]
  },
  {
   "cell_type": "code",
   "execution_count": 23,
   "metadata": {},
   "outputs": [
    {
     "name": "stdout",
     "output_type": "stream",
     "text": [
      "[ 2  7 12 17] ,t= (4L,)\n",
      "A are dimensiunile (2L, 3L)\n"
     ]
    }
   ],
   "source": [
    "v=np.arange(2,21,5)\n",
    "t=v.shape\n",
    "print v, ',t=', t\n",
    "\n",
    "A=np.array([[-2,3,5], [1,4,0]], int)\n",
    "print 'A are dimensiunile', A.shape"
   ]
  },
  {
   "cell_type": "markdown",
   "metadata": {},
   "source": [
    "`NumeArray.size` returneaza numarul de elemente ale array-ului `NumeArray`:\n",
    "    "
   ]
  },
  {
   "cell_type": "code",
   "execution_count": 24,
   "metadata": {},
   "outputs": [
    {
     "name": "stdout",
     "output_type": "stream",
     "text": [
      "4\n",
      "6\n"
     ]
    }
   ],
   "source": [
    "print v.size\n",
    "print A.size"
   ]
  },
  {
   "cell_type": "markdown",
   "metadata": {},
   "source": [
    "**Redimensionarea unui array**"
   ]
  },
  {
   "cell_type": "code",
   "execution_count": 25,
   "metadata": {},
   "outputs": [
    {
     "name": "stdout",
     "output_type": "stream",
     "text": [
      "[ 2  4  6  3  5  7  8 10 12  9 11 13]\n",
      "[[ 2  4  6  3]\n",
      " [ 5  7  8 10]\n",
      " [12  9 11 13]]\n"
     ]
    }
   ],
   "source": [
    "a=np.array([2,4,6,3,5,7,8,10,12,9,11,13], int)\n",
    "b=a.reshape((3,4))\n",
    "print a\n",
    "print b"
   ]
  },
  {
   "cell_type": "markdown",
   "metadata": {},
   "source": [
    "Remarcam ca `NumeArray.reshape(t)` returneaza un array de dimensiunile setate de tuple-ul `t`, iar array-ul initial ramane neschimbat."
   ]
  },
  {
   "cell_type": "markdown",
   "metadata": {},
   "source": [
    "Metoda `reshape` este foarte utila atunci cand un array este construit din date citite dintr-un fisier."
   ]
  },
  {
   "cell_type": "markdown",
   "metadata": {},
   "source": [
    "Transpusa unui array  2D se poate genera apeland metoda `NumeArray.transpose()`"
   ]
  },
  {
   "cell_type": "code",
   "execution_count": 26,
   "metadata": {},
   "outputs": [
    {
     "name": "stdout",
     "output_type": "stream",
     "text": [
      "[[0 1 2 3 4]\n",
      " [5 6 7 8 9]]\n",
      "[[0 5]\n",
      " [1 6]\n",
      " [2 7]\n",
      " [3 8]\n",
      " [4 9]]\n"
     ]
    }
   ],
   "source": [
    "A=np.arange(10).reshape((2,5))\n",
    "print A\n",
    "\n",
    "print A.transpose()"
   ]
  },
  {
   "cell_type": "markdown",
   "metadata": {},
   "source": [
    "Daca `v` este un array 1D, deci un vector linie, apeland `v.transpose()` nu se genereaza un vector coloana:"
   ]
  },
  {
   "cell_type": "code",
   "execution_count": 27,
   "metadata": {},
   "outputs": [
    {
     "name": "stdout",
     "output_type": "stream",
     "text": [
      "[1 2 3 4] [1 2 3 4]\n"
     ]
    }
   ],
   "source": [
    "v=np.arange(1,5)\n",
    "print v, v.transpose()"
   ]
  },
  {
   "cell_type": "markdown",
   "metadata": {},
   "source": [
    "deoarece in Python un vector este unic afisat,  pe linie.\n",
    "\n",
    "Pentru a  a afisa/manipula coordonatele lui v pe coloana se defineste v ca un array 2D, cu o singura linie,\n",
    "astfel:"
   ]
  },
  {
   "cell_type": "code",
   "execution_count": 28,
   "metadata": {},
   "outputs": [
    {
     "name": "stdout",
     "output_type": "stream",
     "text": [
      "[[ 1.  2.  4.]]\n",
      "[[ 1.]\n",
      " [ 2.]\n",
      " [ 4.]]\n",
      "(1L, 3L) (3L, 1L)\n"
     ]
    }
   ],
   "source": [
    "v=np.array([[1,2,4]], float)\n",
    "print v\n",
    "print v.transpose()\n",
    "print v.shape, v.transpose().shape"
   ]
  },
  {
   "cell_type": "markdown",
   "metadata": {},
   "source": [
    "Dintr-un array 2D se obtine un array 1D, concatenand linie dupa linie, apeland metoda\n",
    "`NumeArray.flatten()`\n",
    "\n"
   ]
  },
  {
   "cell_type": "code",
   "execution_count": 29,
   "metadata": {},
   "outputs": [
    {
     "name": "stdout",
     "output_type": "stream",
     "text": [
      "[[1 0 0 1]\n",
      " [0 1 0 1]\n",
      " [1 1 1 0]]\n",
      "[1 0 0 1 0 1 0 1 1 1 1 0]\n"
     ]
    }
   ],
   "source": [
    "A=np.array([[1,0,0,1],[0,1,0,1],[1,1,1,0]], np.uint8)\n",
    "v=A.flatten()\n",
    "print A\n",
    "print v"
   ]
  },
  {
   "cell_type": "markdown",
   "metadata": {},
   "source": [
    "#### Slicing"
   ]
  },
  {
   "cell_type": "markdown",
   "metadata": {},
   "source": [
    "Modalitatile de slicing pentru siruri se extind si pentru array-uri:"
   ]
  },
  {
   "cell_type": "code",
   "execution_count": 30,
   "metadata": {},
   "outputs": [
    {
     "name": "stdout",
     "output_type": "stream",
     "text": [
      "[0 1 2 3 4 5 6 7 8 9]\n",
      "[4 5 6 7 8 9]\n",
      "[0 1 2 3]\n",
      "[3 5 7]\n"
     ]
    }
   ],
   "source": [
    "v=np.arange(10)\n",
    "print v\n",
    "print v[4:]\n",
    "print v[:4]\n",
    "print v[3:9:2]"
   ]
  },
  {
   "cell_type": "code",
   "execution_count": 31,
   "metadata": {},
   "outputs": [
    {
     "name": "stdout",
     "output_type": "stream",
     "text": [
      "[[ 2.  3.  4.]\n",
      " [ 1.  5. -2.]]\n",
      "A[0,:]= [ 2.  3.  4.]\n",
      "A[:,2]= [ 4. -2.]\n",
      "(3L,) (2L,)\n"
     ]
    }
   ],
   "source": [
    "A=np.array([[2,3,4],[1,5,-2]], float)\n",
    "print A\n",
    "print 'A[0,:]=', A[0,:]\n",
    "print 'A[:,2]=', A[:,2]\n",
    "print A[0,:].shape, A[:,2].shape"
   ]
  },
  {
   "cell_type": "markdown",
   "metadata": {},
   "source": [
    "`A[i,:]` este linia i din array-ul A, iar `A[:, j]` coloana j din A. \n",
    "\n",
    "Remarcam ca atat o linie cat si o coloana\n",
    "sunt afisate ca array-uri 1D, adica pe linie."
   ]
  },
  {
   "cell_type": "markdown",
   "metadata": {},
   "source": [
    "Pentru a genera dintr-un array 2D blocuri de sub-array-uri se folosesc regulile de slicing atat pentru primul indice, cat si pentru al doilea:"
   ]
  },
  {
   "cell_type": "code",
   "execution_count": 32,
   "metadata": {},
   "outputs": [
    {
     "name": "stdout",
     "output_type": "stream",
     "text": [
      "[[ 6. -1.  2. -3.]\n",
      " [ 1.  3. -4.  7.]\n",
      " [-1.  0. -2.  3.]\n",
      " [ 2.  2. -5.  1.]]\n",
      "[[-1.  2. -3.]\n",
      " [ 3. -4.  7.]\n",
      " [ 0. -2.  3.]\n",
      " [ 2. -5.  1.]]\n",
      "[[ 6. -1.  2. -3.]\n",
      " [ 1.  3. -4.  7.]\n",
      " [-1.  0. -2.  3.]]\n",
      "[[ 1.  3.]\n",
      " [-1.  0.]]\n"
     ]
    }
   ],
   "source": [
    "A=np.array([[6,-1,2, -3],[1,3, -4, 7],[-1, 0,-2,3], [2,2,-5,1]], float)\n",
    "\n",
    "print A\n",
    "print A[:,1:]\n",
    "print A[:3,:]\n",
    "print A[1:3, :2]\n"
   ]
  },
  {
   "cell_type": "markdown",
   "metadata": {},
   "source": [
    "####   `numpy.linalg`"
   ]
  },
  {
   "cell_type": "markdown",
   "metadata": {},
   "source": [
    "`linalg` este un modul in pachetul `numpy`. El se apeleaza `numpy.linalg` sau daca `numpy` a fost redefinit ca\n",
    "`np`, atunci `np.linalg`. O functie din acest modul se va apela ca `np.linalg.NumeFunctie(argumente)`"
   ]
  },
  {
   "cell_type": "markdown",
   "metadata": {},
   "source": [
    "Nu toate functiile ce au corespondent in Algebra liniara sunt incluse in modulul `linalg`. Un astfel de exemplu este functia ce returneaza produsul scalar."
   ]
  },
  {
   "cell_type": "markdown",
   "metadata": {},
   "source": [
    "Produsul scalar a doi vectori $v, w\\in\\mathbb{R}^n$ se calculeaza apeland functia\n",
    "`np.dot(v,w)`:"
   ]
  },
  {
   "cell_type": "code",
   "execution_count": 33,
   "metadata": {},
   "outputs": [
    {
     "name": "stdout",
     "output_type": "stream",
     "text": [
      "11.0\n"
     ]
    }
   ],
   "source": [
    "v=np.array([-1,2,5,3], float)\n",
    "w=np.array([0,-3,1,4], float)\n",
    "prod=np.dot(v,w)\n",
    "print prod"
   ]
  },
  {
   "cell_type": "markdown",
   "metadata": {},
   "source": [
    "Daca cei doi vectori nu au celasi numar de elemente, incercarea de calcul a produsului scalar genereaza eroare:"
   ]
  },
  {
   "cell_type": "code",
   "execution_count": 34,
   "metadata": {},
   "outputs": [
    {
     "ename": "ValueError",
     "evalue": "matrices are not aligned",
     "output_type": "error",
     "traceback": [
      "\u001b[1;31m---------------------------------------------------------------------------\u001b[0m\n\u001b[1;31mValueError\u001b[0m                                Traceback (most recent call last)",
      "\u001b[1;32m<ipython-input-34-10918cc0956f>\u001b[0m in \u001b[0;36m<module>\u001b[1;34m()\u001b[0m\n\u001b[0;32m      1\u001b[0m \u001b[0mu\u001b[0m\u001b[1;33m=\u001b[0m\u001b[0mnp\u001b[0m\u001b[1;33m.\u001b[0m\u001b[0marange\u001b[0m\u001b[1;33m(\u001b[0m\u001b[1;36m3\u001b[0m\u001b[1;33m,\u001b[0m\u001b[1;36m6\u001b[0m\u001b[1;33m)\u001b[0m\u001b[1;33m\u001b[0m\u001b[0m\n\u001b[1;32m----> 2\u001b[1;33m \u001b[0mp\u001b[0m\u001b[1;33m=\u001b[0m\u001b[0mnp\u001b[0m\u001b[1;33m.\u001b[0m\u001b[0mdot\u001b[0m\u001b[1;33m(\u001b[0m\u001b[0mv\u001b[0m\u001b[1;33m,\u001b[0m\u001b[0mu\u001b[0m\u001b[1;33m)\u001b[0m\u001b[1;33m\u001b[0m\u001b[0m\n\u001b[0m",
      "\u001b[1;31mValueError\u001b[0m: matrices are not aligned"
     ]
    }
   ],
   "source": [
    "u=np.arange(3,6)\n",
    "p=np.dot(v,u)"
   ]
  },
  {
   "cell_type": "markdown",
   "metadata": {},
   "source": [
    "Daca $A\\in\\mathbb{R}^{m\\times p}, B\\in\\mathbb{R}^{p\\times n}$, atunci produsul lor se calculeaza\n",
    "apeland, la fel `np.dot(A,B)`:"
   ]
  },
  {
   "cell_type": "code",
   "execution_count": 35,
   "metadata": {},
   "outputs": [
    {
     "name": "stdout",
     "output_type": "stream",
     "text": [
      "[[ 0  1  2]\n",
      " [ 3  4  5]\n",
      " [ 6  7  8]\n",
      " [ 9 10 11]]\n",
      "[[1 2 3]\n",
      " [4 5 6]\n",
      " [7 8 9]]\n",
      "[[ 18  21  24]\n",
      " [ 54  66  78]\n",
      " [ 90 111 132]\n",
      " [126 156 186]]\n"
     ]
    }
   ],
   "source": [
    "A=np.arange(12).reshape((4,3))\n",
    "B=np.arange(1,10).reshape((3,3))\n",
    "C=np.dot(A,B)\n",
    "print A\n",
    "print B\n",
    "print C"
   ]
  },
  {
   "cell_type": "markdown",
   "metadata": {},
   "source": [
    "Norma unui vector:"
   ]
  },
  {
   "cell_type": "code",
   "execution_count": 36,
   "metadata": {},
   "outputs": [
    {
     "name": "stdout",
     "output_type": "stream",
     "text": [
      "5.47722557505 , Versorul lui v= [-0.18257419  0.36514837  0.91287093]\n"
     ]
    }
   ],
   "source": [
    "v=np.array([-1,2,5], float)\n",
    "no=np.linalg.norm(v) # norm este o functie din modulul linalg al pachetului numpy\n",
    "print no, ', Versorul lui v=', v/no"
   ]
  },
  {
   "cell_type": "markdown",
   "metadata": {},
   "source": [
    "Determinantul si inversa unui array 2D:"
   ]
  },
  {
   "cell_type": "code",
   "execution_count": 37,
   "metadata": {},
   "outputs": [
    {
     "name": "stdout",
     "output_type": "stream",
     "text": [
      "[[ 2. -5.]\n",
      " [ 1. -7.]]\n",
      "Determinantul lui A este d= -9.0\n",
      "[[ 0.77777778 -0.55555556]\n",
      " [ 0.11111111 -0.22222222]]\n"
     ]
    }
   ],
   "source": [
    "A=np.array([[2, -5], [1, -7]], float)\n",
    "print A\n",
    "d=np.linalg.det(A)\n",
    "print 'Determinantul lui A este d=', np.linalg.det(A)\n",
    "B=np.linalg.inv(A)\n",
    "print  B"
   ]
  },
  {
   "cell_type": "markdown",
   "metadata": {},
   "source": [
    "Vectorul constituit din diagonala principala a unui array 2D: "
   ]
  },
  {
   "cell_type": "code",
   "execution_count": 38,
   "metadata": {},
   "outputs": [
    {
     "name": "stdout",
     "output_type": "stream",
     "text": [
      "[[-2.  3.  6.]\n",
      " [ 1.  5.  2.]\n",
      " [ 0. -7.  4.]]\n",
      "[-2.  5.  4.]\n"
     ]
    }
   ],
   "source": [
    "A=np.array([[-2,3,6],[1,5,2],[0,-7,4]], float)\n",
    "d=np.diag(A)\n",
    "print A\n",
    "print d"
   ]
  },
  {
   "cell_type": "markdown",
   "metadata": {},
   "source": [
    " Matricea diagonala asociata unui vector:"
   ]
  },
  {
   "cell_type": "code",
   "execution_count": 39,
   "metadata": {},
   "outputs": [
    {
     "name": "stdout",
     "output_type": "stream",
     "text": [
      "[[-1.  0.  0.]\n",
      " [ 0.  4.  0.]\n",
      " [ 0.  0.  3.]]\n"
     ]
    }
   ],
   "source": [
    "v=np.array([-1,4,3], float)\n",
    "D=np.diag(v)\n",
    "print D"
   ]
  },
  {
   "cell_type": "markdown",
   "metadata": {},
   "source": [
    "Alte functii din `numpy` si `numpy.linalg` vor fi prezentate pe masura ce la cursul de Algebra liniara este \n",
    "discutat suportul lor teoretic."
   ]
  },
  {
   "cell_type": "markdown",
   "metadata": {},
   "source": [
    "#### Caracteristici ale calculului cu array-uri in `numpy`"
   ]
  },
  {
   "cell_type": "markdown",
   "metadata": {},
   "source": [
    "In Python standard daca se dau doua liste de n elemente numerice, atunci interpretand fiecare\n",
    "lista ca un vector din $\\mathbb{R}^n$,  suma lor s-ar calcula astfel:"
   ]
  },
  {
   "cell_type": "code",
   "execution_count": 40,
   "metadata": {},
   "outputs": [
    {
     "name": "stdout",
     "output_type": "stream",
     "text": [
      "1000 loops, best of 3: 315 µs per loop\n"
     ]
    }
   ],
   "source": [
    "\n",
    "def sumaL(v,w):\n",
    "    n=len(v)\n",
    "    s=[]\n",
    "    for i in range(n):\n",
    "          s.append(v[i]+w[i])\n",
    "    return s\n",
    "    \n",
    "\n",
    "v=[2*i for i in range(1000)]\n",
    "w=[3*j+1 for j in range(1000)]\n",
    "%timeit sumaL(v,w)    \n",
    "    \n",
    "\n"
   ]
  },
  {
   "cell_type": "markdown",
   "metadata": {},
   "source": [
    "Pentru a estima timpul de rulare al functiei `sumaL` am folosit comanda magica `%timeit`\n",
    "din IPython. `%timeit` calculeaza media timpului de rulare a functiei. Media este calculata pentru\n",
    "mai multe executii ale functiei.\n",
    "\n",
    "In `numpy` suma a a doua array-uri este implementata element cu element si operatia de adunare se noteaza simplu v+w:"
   ]
  },
  {
   "cell_type": "code",
   "execution_count": 41,
   "metadata": {},
   "outputs": [
    {
     "name": "stdout",
     "output_type": "stream",
     "text": [
      "100000 loops, best of 3: 4.28 µs per loop\n"
     ]
    }
   ],
   "source": [
    "n=1000\n",
    "v=np.empty(n, int)\n",
    "w=np.empty(n, int)\n",
    "for i in range(n):\n",
    "    v[i]=2*i\n",
    "    w[i]=3*i+1\n",
    "    \n",
    "%timeit  s=v+w       "
   ]
  },
  {
   "cell_type": "markdown",
   "metadata": {},
   "source": [
    "Comparand timpul mediu de executie a sumei listelor si respectiv array-urilor 1D in `numpy` realizam \n",
    "performanta acestei operatii in `numpy`."
   ]
  },
  {
   "cell_type": "markdown",
   "metadata": {},
   "source": [
    "Operatiile cu vectori si matrici in `numpy` sunt vectorizate.\n",
    "\n",
    "- Produsul `Pr` dintre un scalar `a` si un array `A` se calculeaza invocand `Pr=a*A`;\n",
    "\n",
    "- Daca doua array-uri `A`, `B` sunt de tip  (m,n), atunci  `P=A*B` este array-ul de tip (m,n)\n",
    "si elemente $p_{ij}=a_{ij}*b_{ij}$ (inmultirea se efectueaza element cu element):\n"
   ]
  },
  {
   "cell_type": "code",
   "execution_count": 42,
   "metadata": {},
   "outputs": [
    {
     "name": "stdout",
     "output_type": "stream",
     "text": [
      "[  2.5   5.    7.5  10. ]\n",
      "[  2.           6.66666667  14.          24.        ]\n"
     ]
    }
   ],
   "source": [
    "a=2.5\n",
    "v=np.arange(1,5)\n",
    "print a*v\n",
    "\n",
    "w=np.linspace(2,6,4)\n",
    "print v*w\n"
   ]
  },
  {
   "cell_type": "markdown",
   "metadata": {},
   "source": [
    "Functiile matematice implementate in modulul `math` sunt reimplementate in `numpy`, dar in timp ce cele din `math` au ca argument\n",
    "un scalar, cele din numpy admit ca argument array-uri.\n",
    "\n",
    "Mai precis, daca $x=[x_0, x_1, \\ldots, x_{n-1}]$, $n\\geq 1$, este un array 1D, atunci $f(x)$ este array-ul\n",
    "$f(x)=[f(x_0), f(x_1), \\ldots, f(x_{n-1})]$ si analog, daca $A$ este un array 2D  de dimensiuni (m,n), atunci  $B=f(A)$ este un array 2D de aceleasi dimensiuni si elementele sale sunt $b_{ij}=f(a_{ij})$."
   ]
  },
  {
   "cell_type": "markdown",
   "metadata": {},
   "source": [
    "Mai precis, sa experimentam evaluarea functiei $f(x)=\\sin(x)$ apeland `math.sin` si `np.sin`, transmitand argumente scalare si respectiv vectoriale:"
   ]
  },
  {
   "cell_type": "code",
   "execution_count": 43,
   "metadata": {},
   "outputs": [
    {
     "name": "stdout",
     "output_type": "stream",
     "text": [
      "0.866025403784\n",
      "0.866025403784\n"
     ]
    }
   ],
   "source": [
    "print math.sin(math.pi/3)\n",
    "print np.sin(np.pi/3)"
   ]
  },
  {
   "cell_type": "code",
   "execution_count": 44,
   "metadata": {},
   "outputs": [
    {
     "name": "stdout",
     "output_type": "stream",
     "text": [
      "[ 0.   0.5  1.   1.5  2.   2.5  3. ]\n",
      "[ 0.     0.479  0.841  0.997  0.909  0.598  0.141]\n"
     ]
    }
   ],
   "source": [
    "x=np.arange(0,np.pi, 0.5)\n",
    "y=np.sin(x)\n",
    "print x\n",
    "print y.round(3)# afiseaza elementele lui y  cu 3 zecimale"
   ]
  },
  {
   "cell_type": "markdown",
   "metadata": {},
   "source": [
    "Functiile matematice din modulul `math` nu sunt insa vectorizate:"
   ]
  },
  {
   "cell_type": "code",
   "execution_count": 45,
   "metadata": {},
   "outputs": [
    {
     "ename": "TypeError",
     "evalue": "a float is required",
     "output_type": "error",
     "traceback": [
      "\u001b[1;31m---------------------------------------------------------------------------\u001b[0m\n\u001b[1;31mTypeError\u001b[0m                                 Traceback (most recent call last)",
      "\u001b[1;32m<ipython-input-45-81498eb9146a>\u001b[0m in \u001b[0;36m<module>\u001b[1;34m()\u001b[0m\n\u001b[0;32m      1\u001b[0m \u001b[0mX\u001b[0m\u001b[1;33m=\u001b[0m\u001b[1;33m[\u001b[0m\u001b[1;36m0\u001b[0m\u001b[1;33m,\u001b[0m \u001b[1;36m0.5\u001b[0m\u001b[1;33m,\u001b[0m \u001b[1;36m1\u001b[0m\u001b[1;33m,\u001b[0m\u001b[1;36m1.5\u001b[0m\u001b[1;33m,\u001b[0m \u001b[1;36m2\u001b[0m\u001b[1;33m]\u001b[0m\u001b[1;33m\u001b[0m\u001b[0m\n\u001b[1;32m----> 2\u001b[1;33m \u001b[0mY\u001b[0m\u001b[1;33m=\u001b[0m\u001b[0mmath\u001b[0m\u001b[1;33m.\u001b[0m\u001b[0msin\u001b[0m\u001b[1;33m(\u001b[0m\u001b[0mX\u001b[0m\u001b[1;33m)\u001b[0m\u001b[1;33m\u001b[0m\u001b[0m\n\u001b[0m",
      "\u001b[1;31mTypeError\u001b[0m: a float is required"
     ]
    }
   ],
   "source": [
    "X=[0, 0.5, 1,1.5, 2]\n",
    "Y=math.sin(X)"
   ]
  },
  {
   "cell_type": "code",
   "execution_count": 1,
   "metadata": {},
   "outputs": [
    {
     "data": {
      "text/html": [
       "<style>\n",
       "    /*body {\n",
       "        background-color: #F5F5F5;\n",
       "    }*/\n",
       "    div.cell{\n",
       "        width: 900px;\n",
       "        margin-left: 13% !important;\n",
       "        margin-right: auto;\n",
       "    }\n",
       "    #notebook li { /* More space between bullet points */\n",
       "    margin-top:0.8em;\n",
       "    }\n",
       "\n",
       "    h1 {\n",
       "        font-family: 'Alegreya Sans', sans-serif;\n",
       "    }\n",
       "    .text_cell_render h1 {\n",
       "        font-weight: 200;\n",
       "        font-size: 40pt;\n",
       "        line-height: 100%;\n",
       "        color: rgb(8, 66, 133);\n",
       "        margin-bottom: 0em;\n",
       "        margin-top: 0em;\n",
       "        display: block;\n",
       "    }\n",
       "    h2 {\n",
       "        font-family: 'Fenix', serif;\n",
       "        text-indent:1em;\n",
       "        text-align:center;\n",
       "    }\n",
       "    .text_cell_render h2 {\n",
       "        font-weight: 200;\n",
       "        font-size: 28pt;\n",
       "        line-height: 100%;\n",
       "        color: rgb(8, 66, 133);\n",
       "        margin-bottom: 1.5em;\n",
       "        margin-top: 0.5em;\n",
       "        display: block;\n",
       "    }\n",
       "    h3 {\n",
       "        font-family: 'Fenix', serif;\n",
       "        %margin-top:12px;\n",
       "        %margin-bottom: 3px;\n",
       "    }\n",
       "    .text_cell_render h3 {\n",
       "        font-weight: 300;\n",
       "        font-size: 18pt;\n",
       "        line-height: 100%;\n",
       "        color: rgb(8, 66, 133);\n",
       "        margin-bottom: 0.5em;\n",
       "        margin-top: 2em;\n",
       "        display: block;\n",
       "    }\n",
       "    h4 {\n",
       "        font-family: 'Fenix', serif;\n",
       "    }\n",
       "    .text_cell_render h4 {\n",
       "        font-weight: 300;\n",
       "        font-size: 16pt;\n",
       "        color: rgb(8, 66, 133);\n",
       "        margin-bottom: 0.5em;\n",
       "        margin-top: 0.5em;\n",
       "        display: block;\n",
       "    }\n",
       "    h5 {\n",
       "        font-family: 'Alegreya Sans', sans-serif;\n",
       "    }\n",
       "    .text_cell_render h5 {\n",
       "        font-weight: 300;\n",
       "        font-style: normal;\n",
       "        font-size: 16pt;\n",
       "        margin-bottom: 0em;\n",
       "        margin-top: 1.5em;\n",
       "        display: block;\n",
       "        }\n",
       "    div.text_cell_render{\n",
       "        font-family: 'Alegreya Sans',Computer Modern, \"Helvetica Neue\", Arial, Helvetica, Geneva, sans-serif;\n",
       "        line-height: 145%;\n",
       "        font-size: 130%;\n",
       "        width:900px;\n",
       "        margin-left:auto;\n",
       "        margin-right:auto;\n",
       "        %text-align:justify;\n",
       "        %text-justify:inter-word;\n",
       "    }\n",
       "    \n",
       "    \n",
       "    code{\n",
       "      font-size: 78%;\n",
       "    }\n",
       "    .rendered_html code{\n",
       "        background-color: transparent;\n",
       "        white-space: inherit;   \n",
       "    }\n",
       "    .prompt{\n",
       "        display: None;\n",
       "     }\n",
       "    .rendered_html code{\n",
       "    background-color: transparent;\n",
       "    }\n",
       "\n",
       "    blockquote{\n",
       "      display:block;\n",
       "      background: #f3f3f3;\n",
       "      font-family: \"Open sans\",verdana,arial,sans-serif;\n",
       "      width:610px;\n",
       "      padding: 15px 15px 15px 15px;\n",
       "      text-align:justify;\n",
       "      text-justify:inter-word;\n",
       "      }\n",
       "      blockquote p {\n",
       "        margin-bottom: 0;\n",
       "        line-height: 125%;\n",
       "        font-size: 100%;\n",
       "      }\n",
       "   /* element.style {\n",
       "    } */\n",
       "</style>\n",
       "<script>\n",
       "    MathJax.Hub.Config({\n",
       "                        TeX: {\n",
       "                           extensions: [\"AMSmath.js\"]\n",
       "                           },\n",
       "                tex2jax: {\n",
       "                    inlineMath: [ [\"$\",\"$\"], [\"\\\\(\",\"\\\\)\"] ],\n",
       "                    displayMath: [ [\"$$\",\"$$\"], [\"\\\\[\",\"\\\\]\"] ]\n",
       "                },\n",
       "                displayAlign: \"center\", // Change this to \"center\" to center equations.\n",
       "                \"HTML-CSS\": {\n",
       "                    styles: {\".MathJax_Display\": {\"margin\": 4}}\n",
       "                }\n",
       "        });\n",
       "</script>\n"
      ],
      "text/plain": [
       "<IPython.core.display.HTML object>"
      ]
     },
     "execution_count": 1,
     "metadata": {},
     "output_type": "execute_result"
    }
   ],
   "source": [
    "from IPython.core.display import HTML\n",
    "def  css_styling():\n",
    "    styles = open(\"./custom.css\", \"r\").read()\n",
    "    return HTML(styles)\n",
    "css_styling()"
   ]
  }
 ],
 "metadata": {
  "kernelspec": {
   "display_name": "Python [default]",
   "language": "python",
   "name": "python2"
  },
  "language_info": {
   "codemirror_mode": {
    "name": "ipython",
    "version": 2
   },
   "file_extension": ".py",
   "mimetype": "text/x-python",
   "name": "python",
   "nbconvert_exporter": "python",
   "pygments_lexer": "ipython2",
   "version": "2.7.13"
  }
 },
 "nbformat": 4,
 "nbformat_minor": 1
}
