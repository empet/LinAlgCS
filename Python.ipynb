{
 "cells": [
  {
   "cell_type": "markdown",
   "metadata": {},
   "source": [
    "# Python"
   ]
  },
  {
   "cell_type": "markdown",
   "metadata": {},
   "source": [
    "- Python este un limbaj interpretat. Interpretorul citeste linie dupa line din program si  semnaleaza codul care nu are sens pe masura ce il ruleaza.\n",
    "\n",
    "- Python este caracterizat ca fiind *dynamically typed*. Ce inseamna aceasta caracteristica?\n",
    "\n",
    "-  Comparativ cu limbajul `C` in care  se declara tipul variabilelor, al parametrilor unei functii\n",
    "sau tipul de date returnat de o functie, \n",
    "in Python nu se fac declaratii de tip, ci se identifica tipul datelor in timpul rularii.\n"
   ]
  },
  {
   "cell_type": "markdown",
   "metadata": {},
   "source": [
    "#### Tipuri de date in Python"
   ]
  },
  {
   "cell_type": "markdown",
   "metadata": {},
   "source": [
    "- Tipurile de date numerice in Python sunt `int, long, float, complex`. Mai exista si tipul `boolean` ca subtip al intregilor."
   ]
  },
  {
   "cell_type": "markdown",
   "metadata": {},
   "source": [
    "-  Tipul `int` este implementat ca tipul `long` in `C`, adica pe 32 de biti. Tipul `long` din Python are precizie nelimitata,\n",
    "iar `float` este implementat ca `double` in `C`. Tipul `complex` il vom studia semestrul 2 in detaliu, in conexiune cu studiul semnalelor analogice si discrete."
   ]
  },
  {
   "cell_type": "markdown",
   "metadata": {},
   "source": [
    "Sa exemplificam ce se afiseaza apeland `type(data)`:"
   ]
  },
  {
   "cell_type": "code",
   "execution_count": 1,
   "metadata": {},
   "outputs": [
    {
     "name": "stdout",
     "output_type": "stream",
     "text": [
      "<type 'int'>\n"
     ]
    }
   ],
   "source": [
    "n=2\n",
    "print type(n)"
   ]
  },
  {
   "cell_type": "code",
   "execution_count": 2,
   "metadata": {},
   "outputs": [
    {
     "data": {
      "text/plain": [
       "float"
      ]
     },
     "execution_count": 2,
     "metadata": {},
     "output_type": "execute_result"
    }
   ],
   "source": [
    "x=23.75\n",
    "type(x)"
   ]
  },
  {
   "cell_type": "code",
   "execution_count": 3,
   "metadata": {},
   "outputs": [
    {
     "name": "stdout",
     "output_type": "stream",
     "text": [
      "False\n"
     ]
    },
    {
     "data": {
      "text/plain": [
       "bool"
      ]
     },
     "execution_count": 3,
     "metadata": {},
     "output_type": "execute_result"
    }
   ],
   "source": [
    "b=False\n",
    "c=True\n",
    "print b\n",
    "type(c)"
   ]
  },
  {
   "cell_type": "markdown",
   "metadata": {},
   "source": [
    "- In Python exista si  tipul de date sir. Relevante pentru abordarile noastre sunt string-urile, listele si tuple-urile."
   ]
  },
  {
   "cell_type": "code",
   "execution_count": 4,
   "metadata": {},
   "outputs": [
    {
     "data": {
      "text/plain": [
       "str"
      ]
     },
     "execution_count": 4,
     "metadata": {},
     "output_type": "execute_result"
    }
   ],
   "source": [
    "s='acesta un string'\n",
    "type(s)"
   ]
  },
  {
   "cell_type": "code",
   "execution_count": 5,
   "metadata": {},
   "outputs": [
    {
     "data": {
      "text/plain": [
       "str"
      ]
     },
     "execution_count": 5,
     "metadata": {},
     "output_type": "execute_result"
    }
   ],
   "source": [
    "ss=\"si acesta este un string\"\n",
    "type(ss)"
   ]
  },
  {
   "cell_type": "code",
   "execution_count": 6,
   "metadata": {},
   "outputs": [
    {
     "name": "stdout",
     "output_type": "stream",
     "text": [
      "Lungimea stringului ss este  24\n"
     ]
    }
   ],
   "source": [
    "L=len(ss)\n",
    "\n",
    "print 'Lungimea stringului ss este ', L"
   ]
  },
  {
   "cell_type": "markdown",
   "metadata": {},
   "source": [
    "Caracterul din pozitia i, `i=0,1,2, ..., len(string)-1` se acceseaza ca `ss[i]`:"
   ]
  },
  {
   "cell_type": "code",
   "execution_count": 7,
   "metadata": {},
   "outputs": [
    {
     "name": "stdout",
     "output_type": "stream",
     "text": [
      "t\n"
     ]
    }
   ],
   "source": [
    "print ss[12]"
   ]
  },
  {
   "cell_type": "markdown",
   "metadata": {},
   "source": [
    "Un element al unui string nu poate fi modificat:"
   ]
  },
  {
   "cell_type": "code",
   "execution_count": 8,
   "metadata": {},
   "outputs": [
    {
     "ename": "TypeError",
     "evalue": "'str' object does not support item assignment",
     "output_type": "error",
     "traceback": [
      "\u001b[1;31m---------------------------------------------------------------------------\u001b[0m\n\u001b[1;31mTypeError\u001b[0m                                 Traceback (most recent call last)",
      "\u001b[1;32m<ipython-input-8-46468ec3f542>\u001b[0m in \u001b[0;36m<module>\u001b[1;34m()\u001b[0m\n\u001b[1;32m----> 1\u001b[1;33m \u001b[0mss\u001b[0m\u001b[1;33m[\u001b[0m\u001b[1;36m1\u001b[0m\u001b[1;33m]\u001b[0m\u001b[1;33m=\u001b[0m\u001b[1;34m'u'\u001b[0m\u001b[1;33m\u001b[0m\u001b[0m\n\u001b[0m",
      "\u001b[1;31mTypeError\u001b[0m: 'str' object does not support item assignment"
     ]
    }
   ],
   "source": [
    "ss[1]='u'"
   ]
  },
  {
   "cell_type": "markdown",
   "metadata": {},
   "source": [
    "- O lista in Python este o colectie de date de acelasi tip sau date de tipuri diverse. Colectia de\n",
    "date (elemente ale listei) se insereaza intre paranteze drepte `[`, `]`, iar doua elemente  succesive se separa prin virgula:"
   ]
  },
  {
   "cell_type": "code",
   "execution_count": 9,
   "metadata": {},
   "outputs": [
    {
     "name": "stdout",
     "output_type": "stream",
     "text": [
      "4 8\n"
     ]
    }
   ],
   "source": [
    "Lista=[2,4,6,8]\n",
    "lung=len(Lista)\n",
    "\n",
    "print lung, Lista[3]"
   ]
  },
  {
   "cell_type": "code",
   "execution_count": 10,
   "metadata": {},
   "outputs": [
    {
     "name": "stdout",
     "output_type": "stream",
     "text": [
      "<type 'list'>\n",
      "text\n"
     ]
    }
   ],
   "source": [
    "LL=[3, 'w', \"text\", 3.14]\n",
    "print type(LL)\n",
    "print LL[2]"
   ]
  },
  {
   "cell_type": "markdown",
   "metadata": {},
   "source": [
    "Elementele unei liste pot fi alte liste:"
   ]
  },
  {
   "cell_type": "code",
   "execution_count": 11,
   "metadata": {},
   "outputs": [
    {
     "name": "stdout",
     "output_type": "stream",
     "text": [
      "[1, 6, 8]\n",
      "[[2, 3, 5], 'inserez string', [9, 1]]\n"
     ]
    }
   ],
   "source": [
    "Li=[[2,3,5], [1,6,8], [9,1]]\n",
    "print Li[1]\n",
    "\n",
    "Li[1]='inserez string'\n",
    "print Li"
   ]
  },
  {
   "cell_type": "markdown",
   "metadata": {},
   "source": [
    "Se poate defini si o lista vida:\n",
    "`L=[]`"
   ]
  },
  {
   "cell_type": "markdown",
   "metadata": {},
   "source": [
    "Atat unei liste vide cat si unei liste cu cel putin un element i se pot adauga elemente\n",
    "astfel: `NumeLista.append(element)`"
   ]
  },
  {
   "cell_type": "code",
   "execution_count": 12,
   "metadata": {},
   "outputs": [
    {
     "name": "stdout",
     "output_type": "stream",
     "text": [
      "[5, 'hei']\n",
      "[5, 'hei', 'c']\n"
     ]
    }
   ],
   "source": [
    "L=[]\n",
    "L.append(5)\n",
    "L.append('hei')\n",
    "print L\n",
    "L.append('c')\n",
    "print L"
   ]
  },
  {
   "cell_type": "markdown",
   "metadata": {},
   "source": [
    "- Tipul de date `tuple` este echivalentul n-uplului definit la Algebra, adica este un set ordonat de n elemente, n>=1. Elementele unui tuple se separa prin virgula si sunt inserate intre doua paranteze rotunde: `t=(3,4,2)`\n"
   ]
  },
  {
   "cell_type": "code",
   "execution_count": 13,
   "metadata": {},
   "outputs": [
    {
     "name": "stdout",
     "output_type": "stream",
     "text": [
      "(2,) (3, 5)\n",
      "3 5\n"
     ]
    }
   ],
   "source": [
    "tu=(2,)\n",
    "tup=(3,5)\n",
    "print tu, tup\n",
    "print tup[0], tup[1]"
   ]
  },
  {
   "cell_type": "markdown",
   "metadata": {},
   "source": [
    "Un `tuple` cu un singur element se specifica indicand intre paranteze rotunde elementul, urmat de virgula (vezi\n",
    "                                                                                         tuple-ul `tu` de mai sus)."
   ]
  },
  {
   "cell_type": "markdown",
   "metadata": {},
   "source": [
    "Un `tuple`, la fel ca un `string`, este invariabil (*immutable* in l engleza), adica elementele sale nu pot fi actualizate:"
   ]
  },
  {
   "cell_type": "code",
   "execution_count": 14,
   "metadata": {},
   "outputs": [
    {
     "ename": "TypeError",
     "evalue": "'tuple' object does not support item assignment",
     "output_type": "error",
     "traceback": [
      "\u001b[1;31m---------------------------------------------------------------------------\u001b[0m\n\u001b[1;31mTypeError\u001b[0m                                 Traceback (most recent call last)",
      "\u001b[1;32m<ipython-input-14-5b914efccfb1>\u001b[0m in \u001b[0;36m<module>\u001b[1;34m()\u001b[0m\n\u001b[0;32m      1\u001b[0m \u001b[0mt\u001b[0m\u001b[1;33m=\u001b[0m\u001b[1;33m(\u001b[0m\u001b[1;36m5\u001b[0m\u001b[1;33m,\u001b[0m\u001b[1;36m2\u001b[0m\u001b[1;33m,\u001b[0m\u001b[1;36m7\u001b[0m\u001b[1;33m)\u001b[0m\u001b[1;33m\u001b[0m\u001b[0m\n\u001b[1;32m----> 2\u001b[1;33m \u001b[0mt\u001b[0m\u001b[1;33m[\u001b[0m\u001b[1;36m2\u001b[0m\u001b[1;33m]\u001b[0m\u001b[1;33m=\u001b[0m\u001b[1;36m4\u001b[0m\u001b[1;33m\u001b[0m\u001b[0m\n\u001b[0m",
      "\u001b[1;31mTypeError\u001b[0m: 'tuple' object does not support item assignment"
     ]
    }
   ],
   "source": [
    "t=(5,2,7)\n",
    "t[2]=4"
   ]
  },
  {
   "cell_type": "markdown",
   "metadata": {},
   "source": [
    "In problemele de Algebra liniara vom folosi un tuple de  1 sau 2 elemente pentru a declara dimensiunile unui `array`."
   ]
  },
  {
   "cell_type": "markdown",
   "metadata": {},
   "source": [
    "Se poate defini si o lista de `tuples`:"
   ]
  },
  {
   "cell_type": "code",
   "execution_count": 15,
   "metadata": {},
   "outputs": [
    {
     "name": "stdout",
     "output_type": "stream",
     "text": [
      "(8,)\n",
      "3 1\n"
     ]
    }
   ],
   "source": [
    "L=[(2,5), (1,2,7), (8,)]\n",
    "print L[2]\n",
    "print len(L[1]), len(L[2]), "
   ]
  },
  {
   "cell_type": "markdown",
   "metadata": {},
   "source": [
    "Elementele unui tuple nu trebuie sa fie obligatoriu de tip numeric. De exemplu putem defini:"
   ]
  },
  {
   "cell_type": "code",
   "execution_count": 16,
   "metadata": {},
   "outputs": [
    {
     "name": "stdout",
     "output_type": "stream",
     "text": [
      "(5, 'nota de salvare', 10, 'nota de excelenta')\n",
      "(5,)\n"
     ]
    }
   ],
   "source": [
    "t=(5, 'nota de salvare', 10, 'nota de excelenta')\n",
    "print t\n",
    "print t[0:2:4]"
   ]
  },
  {
   "cell_type": "markdown",
   "metadata": {},
   "source": [
    "Operatii cu tuple-uri:"
   ]
  },
  {
   "cell_type": "code",
   "execution_count": 17,
   "metadata": {},
   "outputs": [
    {
     "name": "stdout",
     "output_type": "stream",
     "text": [
      "(2, 3, 5, 6, 7, 0)\n"
     ]
    }
   ],
   "source": [
    "t=(2,3,5)\n",
    "s=(6,7,0)\n",
    "print t+s"
   ]
  },
  {
   "cell_type": "markdown",
   "metadata": {},
   "source": [
    "Observam ca suma a doua tuple-uri are ca efect  concatenarea lor."
   ]
  },
  {
   "cell_type": "markdown",
   "metadata": {},
   "source": [
    "In concluzie: elementele unui string sunt doar caractere, in timp ce elementele unei liste sau tuple pot avea orice tip."
   ]
  },
  {
   "cell_type": "markdown",
   "metadata": {},
   "source": [
    "#### Slicing in Python"
   ]
  },
  {
   "cell_type": "markdown",
   "metadata": {},
   "source": [
    "Stringurile, listele si tuple-urile pot fi sectionate (feliate) si se pot apela/afisa doar o parte din ele.\n",
    "O asemenea operatie se numeste *slicing*."
   ]
  },
  {
   "cell_type": "markdown",
   "metadata": {},
   "source": [
    "Daca `S` este string, lista sau tuple de lungime, `len(S)`, egala cu N, atunci urmatoarele notatii de slicing semnifica:"
   ]
  },
  {
   "cell_type": "markdown",
   "metadata": {},
   "source": [
    "\n",
    "`S[i:]`, subsirul de elementele `S[i], ..., S[N-1]`\n",
    "\n",
    "`S[:i]`, subsirul de elemente `S[0], ..., S[i-1]`\n",
    "\n",
    "`S[i:j]`, subsirul de elemente `S[i],..., S[j-1]`\n",
    "\n",
    "`S[i:j:p]`, subsirul de elemente ale lui `S` incepand cu `S[i]` si parcurs cu pasul `p>1` pana la elementul din\n",
    "          pozitia maxima `i+k*p<j`, \n",
    "          \n",
    "          "
   ]
  },
  {
   "cell_type": "code",
   "execution_count": 18,
   "metadata": {},
   "outputs": [
    {
     "name": "stdout",
     "output_type": "stream",
     "text": [
      "43\n",
      "dispozitie operatii speciale\n",
      "Python pune la \n",
      "dispo\n",
      "yhnpn ads\n"
     ]
    }
   ],
   "source": [
    "S='Python pune la dispozitie operatii speciale'\n",
    "L=len(S)\n",
    "print L\n",
    "print S[15:]\n",
    "print S[:15]\n",
    "print S[15:20]\n",
    "print S[1:18:2]"
   ]
  },
  {
   "cell_type": "code",
   "execution_count": 19,
   "metadata": {},
   "outputs": [
    {
     "name": "stdout",
     "output_type": "stream",
     "text": [
      "(2, 4) (4, 6, 8)\n"
     ]
    }
   ],
   "source": [
    "t=(2,4,6,8)\n",
    "ta=t[:2]\n",
    "tb=t[1:]\n",
    "print ta, tb"
   ]
  },
  {
   "cell_type": "markdown",
   "metadata": {},
   "source": [
    "#### Indentarea in Python"
   ]
  },
  {
   "cell_type": "markdown",
   "metadata": {},
   "source": [
    "Spre deosebire de limbajul `C`, in care delimitarea blocurilor de program se realizeaza incluzand blocul respectiv intre  acolade `{`, `}`, in Python se foloseste *indentarea*, adica\n",
    "liniile unui bloc incep din aceeasi coloana (se lasa acelasi numar de blank-uri pana la primul caracter al liniilor)."
   ]
  },
  {
   "cell_type": "markdown",
   "metadata": {},
   "source": [
    "Regula de *indentare*  este urmatoarea:\n",
    "liniile de cod neincluse intr-o bucla `for`,  intr-o secventa `if-else` sau `while`  sau inca in corpul unei functii, incep de obicei din pozitia initiala a liniei."
   ]
  },
  {
   "cell_type": "code",
   "execution_count": 20,
   "metadata": {},
   "outputs": [
    {
     "name": "stdout",
     "output_type": "stream",
     "text": [
      "4\n"
     ]
    }
   ],
   "source": [
    "x=2\n",
    "y=x+ int(2.3)\n",
    "print y"
   ]
  },
  {
   "cell_type": "code",
   "execution_count": 21,
   "metadata": {},
   "outputs": [
    {
     "ename": "IndentationError",
     "evalue": "unexpected indent (<ipython-input-21-4197e8957835>, line 2)",
     "output_type": "error",
     "traceback": [
      "\u001b[1;36m  File \u001b[1;32m\"<ipython-input-21-4197e8957835>\"\u001b[1;36m, line \u001b[1;32m2\u001b[0m\n\u001b[1;33m    n=7\u001b[0m\n\u001b[1;37m    ^\u001b[0m\n\u001b[1;31mIndentationError\u001b[0m\u001b[1;31m:\u001b[0m unexpected indent\n"
     ]
    }
   ],
   "source": [
    "x=5\n",
    "  n=7\n",
    "  print x, n  "
   ]
  },
  {
   "cell_type": "markdown",
   "metadata": {},
   "source": [
    "In Python sfarsitul unei linii de cod nu se marcheaza uzual cu punct si virgula, dar daca inseram `;` interpretorul il ignora."
   ]
  },
  {
   "cell_type": "markdown",
   "metadata": {},
   "source": [
    "#### Bucla for"
   ]
  },
  {
   "cell_type": "code",
   "execution_count": 22,
   "metadata": {},
   "outputs": [
    {
     "name": "stdout",
     "output_type": "stream",
     "text": [
      "[0, 'impar?', 2, 'impar?', 4, 'impar?', 6, 'impar?', 8, 'impar?']\n"
     ]
    }
   ],
   "source": [
    "n=5\n",
    "x=[]\n",
    "\n",
    "for i in range(n):\n",
    "    x.append(2*i)\n",
    "    x.append('impar?')\n",
    "print  x  "
   ]
  },
  {
   "cell_type": "markdown",
   "metadata": {},
   "source": [
    "\n",
    "- linia unui `for`  se termina obligatoriu cu doua puncte.\n",
    "\n",
    "- `for i in range(n)` este echivalentul\n",
    "lui `for(i=0;i<n;i++)` din `C/C++`.\n",
    "\n",
    "- blocul din  bucla `for` este indentat; "
   ]
  },
  {
   "cell_type": "markdown",
   "metadata": {},
   "source": [
    "#### Sintaxa instructiunii if-else"
   ]
  },
  {
   "cell_type": "code",
   "execution_count": 23,
   "metadata": {},
   "outputs": [
    {
     "name": "stdout",
     "output_type": "stream",
     "text": [
      "n este diferit de 2\n"
     ]
    }
   ],
   "source": [
    "n=5\n",
    "if n==2:\n",
    "   print 'n este egal cu 2'\n",
    "else:\n",
    "   print 'n este diferit de 2'\n"
   ]
  },
  {
   "cell_type": "markdown",
   "metadata": {},
   "source": [
    "Remarcam ca se scrie  \n",
    "`if conditie:`\n",
    "\n",
    "`else:` \n",
    "\n",
    "si ca blocurile aferente sunt identic indentate!!!"
   ]
  },
  {
   "cell_type": "markdown",
   "metadata": {},
   "source": [
    "#### Operatorii relationali din Python  sunt: `<`, `<=`, `>`, `>=`, `==`, `!=`"
   ]
  },
  {
   "cell_type": "markdown",
   "metadata": {},
   "source": [
    "Acesti operatori  au aceasi semnificatie ca in `C`. Ei se folosesc in problemele de Algebra liniara pentru a compara scalari si array-uri.   O comparatie returneaza `True` sau `False`."
   ]
  },
  {
   "cell_type": "code",
   "execution_count": 24,
   "metadata": {},
   "outputs": [
    {
     "name": "stdout",
     "output_type": "stream",
     "text": [
      "False\n"
     ]
    }
   ],
   "source": [
    "x=2\n",
    "y=5.73\n",
    "z=x>=y\n",
    "print z"
   ]
  },
  {
   "cell_type": "markdown",
   "metadata": {},
   "source": [
    "####  Operatorii logici in Python sunt `and`, `or` si `not`:"
   ]
  },
  {
   "cell_type": "code",
   "execution_count": 25,
   "metadata": {},
   "outputs": [
    {
     "name": "stdout",
     "output_type": "stream",
     "text": [
      "al doilea caz\n"
     ]
    }
   ],
   "source": [
    "a=2\n",
    "b=0\n",
    "\n",
    "if a<b and a>0:\n",
    "    print 'primul caz'\n",
    "else:\n",
    "    if a>=b or a<0:\n",
    "        print 'al doilea caz'\n",
    "    else:    \n",
    "        print 'al treielea caz'    \n",
    "        "
   ]
  },
  {
   "cell_type": "markdown",
   "metadata": {},
   "source": [
    "#### Operatorii de apartenenta sunt `in` si `not in`."
   ]
  },
  {
   "cell_type": "code",
   "execution_count": 26,
   "metadata": {},
   "outputs": [
    {
     "name": "stdout",
     "output_type": "stream",
     "text": [
      "n-am dolari, nu pot trimite scrisoare\n"
     ]
    }
   ],
   "source": [
    "L=['a', 'b', 'c', '*', '#']\n",
    "if '@'in L:\n",
    "    print 'pot trimite un email'\n",
    "else:\n",
    "    if '$' not in L:\n",
    "        print 'n-am dolari, nu pot trimite scrisoare'  \n",
    "    else:\n",
    "        print 'merg la posta'"
   ]
  },
  {
   "cell_type": "markdown",
   "metadata": {},
   "source": [
    "#### Definirea functiilor in Python"
   ]
  },
  {
   "cell_type": "markdown",
   "metadata": {},
   "source": [
    "Ca in orice limbaj de programare functiile se folosesc pentru a defini cod reutilizabil, dar si pentru a organiza codul.\n",
    "\n",
    "Linia de definitie a unei functii este de forma:\n",
    "\n",
    "`def NumeFunctie(param1, param2, ..., paramN):`\n",
    "\n"
   ]
  },
  {
   "cell_type": "markdown",
   "metadata": {},
   "source": [
    "- `def` este un cuvant rezervat,  care indica definitia unei functii. \n",
    "\n",
    "- numele functiei se alege conform acelorasi reguli ca in `C`.\n",
    "\n",
    "- parametrii `param1, param2, ..., param N` sunt nume si ele definesc tipurile de argumente pe care functia le poate accepta.\n",
    "\n",
    "- linia de definitie se incheie obligatoriu cu `:`\n",
    "\n",
    "- liniile ce constituie corpul functiei sunt  indentate."
   ]
  },
  {
   "cell_type": "markdown",
   "metadata": {},
   "source": [
    "Pentru a ilustra modalitatea de indentare, dam un exemplu  elementar de functie ce calculeaza cel mai mare divizor comun a doua numere:"
   ]
  },
  {
   "cell_type": "code",
   "execution_count": 27,
   "metadata": {},
   "outputs": [
    {
     "name": "stdout",
     "output_type": "stream",
     "text": [
      "3\n"
     ]
    }
   ],
   "source": [
    "def cmmdivc(m,n):\n",
    "    cmmd=1\n",
    "    d=2 # d posibil divizor\n",
    "    while d<=m and d<=n:\n",
    "        if m%d==0 and n%d==0:\n",
    "            cmmd=d\n",
    "        d+=1    \n",
    "    return cmmd\n",
    "\n",
    "#############################\n",
    "# apelam functia:\n",
    "nrdiv=cmmdivc(6,15)\n",
    "print nrdiv\n",
    "        "
   ]
  },
  {
   "cell_type": "markdown",
   "metadata": {},
   "source": [
    "Indentarea indica in mod evident sub-blocurile din corpul functiei."
   ]
  },
  {
   "cell_type": "markdown",
   "metadata": {},
   "source": [
    "Functiile pot fi privite ca orice alt obiect (float, tuple, etc). Invocand tipul unei functii\n",
    "prin `type(NumeFunctie)` este afisat tipul `function`.\n"
   ]
  },
  {
   "cell_type": "code",
   "execution_count": 28,
   "metadata": {},
   "outputs": [
    {
     "name": "stdout",
     "output_type": "stream",
     "text": [
      "Exemplu\n"
     ]
    },
    {
     "data": {
      "text/plain": [
       "function"
      ]
     },
     "execution_count": 28,
     "metadata": {},
     "output_type": "execute_result"
    }
   ],
   "source": [
    "def doarprint():\n",
    "    print  'Exemplu'\n",
    "    return None\n",
    "\n",
    "doarprint()\n",
    "type(doarprint)"
   ]
  },
  {
   "cell_type": "markdown",
   "metadata": {},
   "source": [
    "Functia poate returna o valoare numerica sau orice alt obiect: lista, tuple, string, array, etc\n",
    "In exemplul de mai sus functia nu returneaza nimic. Este admis in acest caz sa se scrie simplu doar `return` sau sa nu se insereze `return`.    "
   ]
  },
  {
   "cell_type": "markdown",
   "metadata": {},
   "source": [
    "#### Operatii, functii si metode pentru liste"
   ]
  },
  {
   "cell_type": "markdown",
   "metadata": {},
   "source": [
    "Deoarece listele de elemente numerice pot fi convertite in `array-uri`(obiectele de baza in Algebra liniara) prezentam cateva detalii relativ la liste."
   ]
  },
  {
   "cell_type": "markdown",
   "metadata": {},
   "source": [
    "- stergerea elementului din pozitia `i` a listei `L`:\n",
    "    `del L[i]`\n",
    "\n",
    "- Suma a doua liste `L1+L2` are ca efect concatenarea lor;\n",
    "\n",
    "- produsul unei liste cu un numar intreg pozitiv, `n*L`, are ca efect generarea unei liste in care se repeta de   `n` ori elementele listei `L`;\n",
    "\n"
   ]
  },
  {
   "cell_type": "code",
   "execution_count": 29,
   "metadata": {},
   "outputs": [
    {
     "name": "stdout",
     "output_type": "stream",
     "text": [
      "[2, 3, 5]\n"
     ]
    }
   ],
   "source": [
    "L=[2,3,-1, 5]\n",
    "del L[2]\n",
    "print L"
   ]
  },
  {
   "cell_type": "code",
   "execution_count": 30,
   "metadata": {},
   "outputs": [
    {
     "name": "stdout",
     "output_type": "stream",
     "text": [
      "[2, 3, 4, 5, 6, 7]\n",
      "[5, 6, 7, 'a', 'b']\n"
     ]
    }
   ],
   "source": [
    "L1=[2,3,4]\n",
    "L2=[5,6,7]\n",
    "L3=['a', 'b']\n",
    "print L1+L2\n",
    "print L2+L3"
   ]
  },
  {
   "cell_type": "code",
   "execution_count": 31,
   "metadata": {},
   "outputs": [
    {
     "name": "stdout",
     "output_type": "stream",
     "text": [
      "[1, 9, 1, 9, 1, 9, 1, 9]\n"
     ]
    }
   ],
   "source": [
    "L=[1,9]\n",
    "LL=4*L\n",
    "print LL"
   ]
  },
  {
   "cell_type": "markdown",
   "metadata": {},
   "source": [
    "- test de apartenenta a unui element la o lista:"
   ]
  },
  {
   "cell_type": "code",
   "execution_count": 32,
   "metadata": {},
   "outputs": [
    {
     "name": "stdout",
     "output_type": "stream",
     "text": [
      "True\n"
     ]
    }
   ],
   "source": [
    "L=[2,3,3,4]\n",
    "b= 3 in L\n",
    "print b"
   ]
  },
  {
   "cell_type": "code",
   "execution_count": 33,
   "metadata": {},
   "outputs": [
    {
     "name": "stdout",
     "output_type": "stream",
     "text": [
      "7 nu e in lista\n"
     ]
    }
   ],
   "source": [
    "L=[2,4,6,5]\n",
    "if 7 in L:\n",
    "    print 'Lista il contine pe 7'\n",
    "else:\n",
    "    print '7 nu e in lista'\n"
   ]
  },
  {
   "cell_type": "markdown",
   "metadata": {},
   "source": [
    "- Iterarea unei liste:"
   ]
  },
  {
   "cell_type": "code",
   "execution_count": 34,
   "metadata": {},
   "outputs": [
    {
     "name": "stdout",
     "output_type": "stream",
     "text": [
      "5\n",
      "7\n",
      "9\n",
      "1\n",
      "3\n"
     ]
    }
   ],
   "source": [
    "L=[5,7,9,1,3]\n",
    "for elem in L:\n",
    "    print elem\n",
    "    "
   ]
  },
  {
   "cell_type": "markdown",
   "metadata": {},
   "source": [
    "Remarcam ca in iterare `elem` parcurge elementele listei, deci acest `for` este diferit\n",
    "de bucla `for` in care contorul parcurge multimea de indici ale elementelor listei:\n",
    "    "
   ]
  },
  {
   "cell_type": "code",
   "execution_count": 35,
   "metadata": {},
   "outputs": [
    {
     "name": "stdout",
     "output_type": "stream",
     "text": [
      "5\n",
      "7\n",
      "9\n",
      "1\n",
      "3\n"
     ]
    }
   ],
   "source": [
    "for i in range(len(L)):\n",
    "    print L[i]"
   ]
  },
  {
   "cell_type": "markdown",
   "metadata": {},
   "source": [
    "- Indexare cu indici negativi"
   ]
  },
  {
   "cell_type": "markdown",
   "metadata": {},
   "source": [
    "Indexand elementele unei liste uzual,  `[L[0], L[1], ..., L[N-1]]`, se poate accesa elementul din pozitia `i`, prin `L[i]`, `i=0,1, ...N-1`, asa cum am precizat deja.\n",
    "\n",
    "Lista mai poate fi interpretata  ca avand elementele `L[N-N], L[N-(N-1)], ...L[N-1]`. In aceasta interpretare un element arbitrar, `L[N-i]`, se poate accesa si   ca `L[-i]`, `i=1, 2, ..., N`:\n"
   ]
  },
  {
   "cell_type": "code",
   "execution_count": 36,
   "metadata": {},
   "outputs": [
    {
     "name": "stdout",
     "output_type": "stream",
     "text": [
      "10\n",
      "6 6\n"
     ]
    }
   ],
   "source": [
    "L=[2,4,6,8,10]\n",
    "N=len(L)\n",
    "\n",
    "print L[4]\n",
    "print L[N-3], L[-3]"
   ]
  },
  {
   "cell_type": "markdown",
   "metadata": {},
   "source": [
    "#### Functii ce actioneaza asupra listelor"
   ]
  },
  {
   "cell_type": "markdown",
   "metadata": {},
   "source": [
    "Functiile `min(L)`, `max(L)` returneaza elementul din lista cu cea mai mica valoare, respectiv cea mai mare valoare."
   ]
  },
  {
   "cell_type": "code",
   "execution_count": 37,
   "metadata": {},
   "outputs": [
    {
     "name": "stdout",
     "output_type": "stream",
     "text": [
      "-5 9\n"
     ]
    }
   ],
   "source": [
    "L=[3, -5, 2,1,7, 4, 9, 2]\n",
    "print min(L), max(L)"
   ]
  },
  {
   "cell_type": "markdown",
   "metadata": {},
   "source": [
    "`list(NumeTuple)` converteste un tuple in lista:"
   ]
  },
  {
   "cell_type": "code",
   "execution_count": 38,
   "metadata": {},
   "outputs": [
    {
     "name": "stdout",
     "output_type": "stream",
     "text": [
      "(3, 4) [3, 4]\n"
     ]
    }
   ],
   "source": [
    "t=(3,4)# acesta este un tuple\n",
    "lt=list(t)\n",
    "print t, lt"
   ]
  },
  {
   "cell_type": "markdown",
   "metadata": {},
   "source": [
    "#### Metode "
   ]
  },
  {
   "cell_type": "markdown",
   "metadata": {},
   "source": [
    "Functiile  sunt secvente de cod, apelate prin `NumeFunctie(argumente)`.  Metodele sunt functii asociate unui obiect, in acest caz unei liste. \n",
    "\n",
    "O metoda pentru liste se apeleaza astfel:\n",
    "`NumeLista.NumeMetoda(argumente)`"
   ]
  },
  {
   "cell_type": "code",
   "execution_count": 39,
   "metadata": {},
   "outputs": [
    {
     "name": "stdout",
     "output_type": "stream",
     "text": [
      "[4, 5, 2, 7, 2]\n",
      "5 apare de  2 ori\n"
     ]
    }
   ],
   "source": [
    "#L.append(elem) adauga elementul elem  la lista\n",
    "\n",
    "L=[4,5,2,7]\n",
    "L.append(2)\n",
    "print L\n",
    "\n",
    "# nr=L.count(elem) este numarul de cate ori elementul elem apare in lista\n",
    "L=[0, 1, 2, 3 ,4, 5, 6,5]\n",
    "nr=L.count(5)\n",
    "print '5 apare de ', nr, 'ori'"
   ]
  },
  {
   "cell_type": "code",
   "execution_count": 40,
   "metadata": {},
   "outputs": [
    {
     "name": "stdout",
     "output_type": "stream",
     "text": [
      "2\n"
     ]
    }
   ],
   "source": [
    "# L.index(elem)indica primul indice la care apare elementul elem in lista\n",
    "L=[-2, 1, 7, 3, 7]\n",
    "pind=L.index(7)\n",
    "print pind\n"
   ]
  },
  {
   "cell_type": "code",
   "execution_count": 41,
   "metadata": {},
   "outputs": [
    {
     "name": "stdout",
     "output_type": "stream",
     "text": [
      "[-2, 1, 7, 3, 7]\n",
      "[-2, 10, 1, 7, 3, 7]\n"
     ]
    }
   ],
   "source": [
    "print L\n",
    "# L.insert(i,elem) insereaza elementul elem in pozitia L[i] \n",
    "#si deplaseaza elementele din dreapta cu o pozitie\n",
    "L.insert(1, 10)\n",
    "print L"
   ]
  },
  {
   "cell_type": "code",
   "execution_count": 42,
   "metadata": {},
   "outputs": [
    {
     "name": "stdout",
     "output_type": "stream",
     "text": [
      "[1, 2, 3, 4, 6]\n"
     ]
    }
   ],
   "source": [
    "L=[1,2,5, 3,4,6]\n",
    "#L.remove(elem) sterge elementul elem din lista\n",
    "L.remove(5)\n",
    "print L"
   ]
  },
  {
   "cell_type": "markdown",
   "metadata": {},
   "source": [
    "Daca insa un element apare de mai multe ori in lista atunci `L.remove(elem)` sterge doar elementul din pozitia cu cel mai mic indice."
   ]
  },
  {
   "cell_type": "code",
   "execution_count": 43,
   "metadata": {},
   "outputs": [
    {
     "name": "stdout",
     "output_type": "stream",
     "text": [
      "[1, 2, 3, 5, 4, 7]\n"
     ]
    }
   ],
   "source": [
    "L=[1,2,3,4,5,4,7]\n",
    "L.remove(4)\n",
    "print L"
   ]
  },
  {
   "cell_type": "code",
   "execution_count": 44,
   "metadata": {},
   "outputs": [
    {
     "name": "stdout",
     "output_type": "stream",
     "text": [
      "[1, 2, 3, 4, 5, 6]\n"
     ]
    }
   ],
   "source": [
    "#L.sort() sorteaza elementele in ordine crescatoare\n",
    "Lista=[2,5,3,1,4,6]\n",
    "\n",
    "Lista.sort()\n",
    "print Lista"
   ]
  },
  {
   "cell_type": "code",
   "execution_count": 45,
   "metadata": {},
   "outputs": [
    {
     "name": "stdout",
     "output_type": "stream",
     "text": [
      "[-4, 8, -3, 6, -2, 4]\n"
     ]
    }
   ],
   "source": [
    "#L.reverse()  inverseaza pozitia elementelor in lista de lungime N: \n",
    "#elementul L[0] trece in pozitia N-1, L[1] in N-2, etc\n",
    "\n",
    "L=[4, -2, 6, -3, 8,-4]\n",
    "L.reverse()\n",
    "print L"
   ]
  },
  {
   "cell_type": "markdown",
   "metadata": {},
   "source": [
    "**Generarea unei liste prin comprehensiune**"
   ]
  },
  {
   "cell_type": "markdown",
   "metadata": {},
   "source": [
    "In Python exista o modalitate de a crea liste, numita  *list comprehension*. \n",
    "Aceasta modalitate este foarte naturala si simpla, inspirata de modul de definire a unor multimi finite in matematica\n",
    "([Guido Van Rossum](http://en.wikipedia.org/wiki/Guido_van_Rossum), creatorul lui Python are un background de matematician),\n",
    "si anume: $S=\\{ 3i-1\\:|\\: i=\\overline{100,499}\\}$. \n",
    "\n",
    "Lista care are aceleasi elemente ca $S$ se descrie prin comprehensiune astfel:"
   ]
  },
  {
   "cell_type": "code",
   "execution_count": 46,
   "metadata": {},
   "outputs": [
    {
     "name": "stdout",
     "output_type": "stream",
     "text": [
      "[299, 302, 305, 308, 311]\n",
      "[301, 304, 307, 310, 313]\n"
     ]
    }
   ],
   "source": [
    "L=[3*i-1 for i in range(100,500)]\n",
    "print L[:5]# printam doar primele 5 elemente\n",
    "\n",
    "LL=[elem+2 for elem in L]\n",
    "print LL[:5]"
   ]
  },
  {
   "cell_type": "markdown",
   "metadata": {},
   "source": [
    "Sintaxa de baza pentru generarea unei liste prin comprehensiune este deci:\n",
    "\n",
    "`L=[expresie for indice in range(m,n)]`\n",
    "\n",
    "sau\n",
    "\n",
    "`LL=[expresie for element in li]`\n",
    "\n",
    "unde `li` este o lista definita in prealabil.\n",
    "\n",
    "In primul caz `expresie` este o functie de `indice`, iar in al doilea o functie de `element`.\n",
    "    "
   ]
  },
  {
   "cell_type": "code",
   "execution_count": 1,
   "metadata": {},
   "outputs": [
    {
     "data": {
      "text/html": [
       "<style>\n",
       "    /*body {\n",
       "        background-color: #F5F5F5;\n",
       "    }*/\n",
       "    div.cell{\n",
       "        width: 900px;\n",
       "        margin-left: 13% !important;\n",
       "        margin-right: auto;\n",
       "    }\n",
       "    #notebook li { /* More space between bullet points */\n",
       "    margin-top:0.8em;\n",
       "    }\n",
       "\n",
       "    h1 {\n",
       "        font-family: 'Alegreya Sans', sans-serif;\n",
       "    }\n",
       "    .text_cell_render h1 {\n",
       "        font-weight: 200;\n",
       "        font-size: 40pt;\n",
       "        line-height: 100%;\n",
       "        color: rgb(8, 66, 133);\n",
       "        margin-bottom: 0em;\n",
       "        margin-top: 0em;\n",
       "        display: block;\n",
       "    }\n",
       "    h2 {\n",
       "        font-family: 'Fenix', serif;\n",
       "        text-indent:1em;\n",
       "        text-align:center;\n",
       "    }\n",
       "    .text_cell_render h2 {\n",
       "        font-weight: 200;\n",
       "        font-size: 28pt;\n",
       "        line-height: 100%;\n",
       "        color: rgb(8, 66, 133);\n",
       "        margin-bottom: 1.5em;\n",
       "        margin-top: 0.5em;\n",
       "        display: block;\n",
       "    }\n",
       "    h3 {\n",
       "        font-family: 'Fenix', serif;\n",
       "        %margin-top:12px;\n",
       "        %margin-bottom: 3px;\n",
       "    }\n",
       "    .text_cell_render h3 {\n",
       "        font-weight: 300;\n",
       "        font-size: 18pt;\n",
       "        line-height: 100%;\n",
       "        color: rgb(8, 66, 133);\n",
       "        margin-bottom: 0.5em;\n",
       "        margin-top: 2em;\n",
       "        display: block;\n",
       "    }\n",
       "    h4 {\n",
       "        font-family: 'Fenix', serif;\n",
       "    }\n",
       "    .text_cell_render h4 {\n",
       "        font-weight: 300;\n",
       "        font-size: 16pt;\n",
       "        color: rgb(8, 66, 133);\n",
       "        margin-bottom: 0.5em;\n",
       "        margin-top: 0.5em;\n",
       "        display: block;\n",
       "    }\n",
       "    h5 {\n",
       "        font-family: 'Alegreya Sans', sans-serif;\n",
       "    }\n",
       "    .text_cell_render h5 {\n",
       "        font-weight: 300;\n",
       "        font-style: normal;\n",
       "        font-size: 16pt;\n",
       "        margin-bottom: 0em;\n",
       "        margin-top: 1.5em;\n",
       "        display: block;\n",
       "        }\n",
       "    div.text_cell_render{\n",
       "        font-family: 'Alegreya Sans',Computer Modern, \"Helvetica Neue\", Arial, Helvetica, Geneva, sans-serif;\n",
       "        line-height: 145%;\n",
       "        font-size: 130%;\n",
       "        width:900px;\n",
       "        margin-left:auto;\n",
       "        margin-right:auto;\n",
       "        %text-align:justify;\n",
       "        %text-justify:inter-word;\n",
       "    }\n",
       "    \n",
       "    \n",
       "    code{\n",
       "      font-size: 78%;\n",
       "    }\n",
       "    .rendered_html code{\n",
       "        background-color: transparent;\n",
       "        white-space: inherit;   \n",
       "    }\n",
       "    .prompt{\n",
       "        display: None;\n",
       "     }\n",
       "    .rendered_html code{\n",
       "    background-color: transparent;\n",
       "    }\n",
       "\n",
       "    blockquote{\n",
       "      display:block;\n",
       "      background: #f3f3f3;\n",
       "      font-family: \"Open sans\",verdana,arial,sans-serif;\n",
       "      width:610px;\n",
       "      padding: 15px 15px 15px 15px;\n",
       "      text-align:justify;\n",
       "      text-justify:inter-word;\n",
       "      }\n",
       "      blockquote p {\n",
       "        margin-bottom: 0;\n",
       "        line-height: 125%;\n",
       "        font-size: 100%;\n",
       "      }\n",
       "   /* element.style {\n",
       "    } */\n",
       "</style>\n",
       "<script>\n",
       "    MathJax.Hub.Config({\n",
       "                        TeX: {\n",
       "                           extensions: [\"AMSmath.js\"]\n",
       "                           },\n",
       "                tex2jax: {\n",
       "                    inlineMath: [ [\"$\",\"$\"], [\"\\\\(\",\"\\\\)\"] ],\n",
       "                    displayMath: [ [\"$$\",\"$$\"], [\"\\\\[\",\"\\\\]\"] ]\n",
       "                },\n",
       "                displayAlign: \"center\", // Change this to \"center\" to center equations.\n",
       "                \"HTML-CSS\": {\n",
       "                    styles: {\".MathJax_Display\": {\"margin\": 4}}\n",
       "                }\n",
       "        });\n",
       "</script>\n"
      ],
      "text/plain": [
       "<IPython.core.display.HTML object>"
      ]
     },
     "execution_count": 1,
     "metadata": {},
     "output_type": "execute_result"
    }
   ],
   "source": [
    "from IPython.core.display import HTML\n",
    "def  css_styling():\n",
    "    styles = open(\"./custom.css\", \"r\").read()\n",
    "    return HTML(styles)\n",
    "css_styling()"
   ]
  }
 ],
 "metadata": {
  "kernelspec": {
   "display_name": "Python [default]",
   "language": "python",
   "name": "python2"
  },
  "language_info": {
   "codemirror_mode": {
    "name": "ipython",
    "version": 2
   },
   "file_extension": ".py",
   "mimetype": "text/x-python",
   "name": "python",
   "nbconvert_exporter": "python",
   "pygments_lexer": "ipython2",
   "version": "2.7.13"
  }
 },
 "nbformat": 4,
 "nbformat_minor": 1
}
