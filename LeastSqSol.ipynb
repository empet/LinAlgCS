{
 "cells": [
  {
   "cell_type": "markdown",
   "metadata": {},
   "source": [
    "# Solutia celor mai mici patrate a unui sistem liniar $Ax=b$"
   ]
  },
  {
   "cell_type": "markdown",
   "metadata": {},
   "source": [
    "Consideram o matrice $A=[c_1|c_2|\\ldots|c_n]\\in\\mathbb{R}^{m\\times n}$, $m\\geq n$, un vector $b\\in\\mathbb{R}^m$ si sistemul liniar\n",
    "$Ax=b$. \n",
    "\n",
    "Un sistem de ecuatii liniare in care numarul ecuatiilor este  strict mai mare decat numarul, $n$, al necunoscutelor  se numeste sistem  supradeterminat.\n",
    "\n",
    "Daca sistemul supradeterminat $Ax=b$ este incompatibil, atunci nu exista nici un vector $x\\in\\mathbb{R}^n$ astfel incat $Ax=b$.\n",
    "\n",
    "In acest caz se determina solutia celor mai mici patrate, adica un vector $x^*\\in\\mathbb{R}^n$, astfel incat dintre toti vectorii $x$ din $\\mathbb{R}^n$, $x^*$ minimizeaza distanta de la $b$ la $Ax$:\n",
    "$$ ||b-Ax^*||\\leq ||b-Ax||\\quad \\Leftrightarrow \\quad ||b-Ax^*||^2\\leq ||b-Ax||^2 \\quad \\forall\\: x\\in\\mathbb{R}^n.$$\n",
    "Repetam succint cum se determina solutia celor mai mici patrate (vezi Cursul 7):\n",
    "\n",
    "Sistemul $Ax=b$ fiind incompatibil, vectorul $b\\in\\mathbb{R}^m$ nu apartine subspatiului $col(A)$, generat de coloanele $c_1, c_2\\ldots, c_n\\in\\mathbb{R}^m$ ale  matricii $A$.  Proiectia ortogonala, $b'$,  a vectorului $b$ pe subspatiul $col(A)$ este o combinatie liniara a coloanelor:\n",
    "\n",
    "$$b'=x_1^*c_1+x_2^*c_2+\\cdots+x_n^*c_n=Ax^*, \\quad \\mbox{unde}\\:\\:  x^*=(x_1^*, x_2^*, \\ldots, x_n^*)^T$$\n",
    "\n",
    "Vectorul $x^*$ astfel asociat este solutia celor mai mici patrate a sistemului $Ax=b$. \n",
    "\n",
    "\n",
    "$r=b-Ax^*$ este reziduul sistemului, iar norma acestui vector la patrat, $||r||^2=||b-Ax^*||^2$ este eroarea la patrat, eroare ce se comite interpretand pe $x^*$ ca solutie a sistemului $Ax=b$.\n",
    "\n",
    "In figura urmatoare ilustram problematica aflarii solutiei celor mai mici patrate."
   ]
  },
  {
   "cell_type": "code",
   "execution_count": 1,
   "metadata": {},
   "outputs": [
    {
     "data": {
      "image/png": "[encoded data removed]",
      "text/plain": [
       "<IPython.core.display.Image at 0x59f39b0>"
      ]
     },
     "execution_count": 1,
     "metadata": {},
     "output_type": "execute_result"
    }
   ],
   "source": [
    "from IPython.display import Image\n",
    "Image(filename='Imag/leastsq.png')"
   ]
  },
  {
   "cell_type": "markdown",
   "metadata": {},
   "source": [
    "Solutia celor mai mici patrate a sistemului  Ax=b si caracteristici ale solutiei si problemei celor mai mici patrate se obtin apeland functia [numpy.linalg.lstsq](http://docs.scipy.org/doc/numpy/reference/generated/numpy.linalg.lstsq.html):\n",
    "\n",
    "`[xstar, rez2, rangA, singA]=np.linalg.lstsq(A,b)`\n",
    "\n",
    "Functia `np.linalg.lstsq` returneaza o lista  de obiecte:\n",
    "\n",
    "- `xstar` este array-ul care contine solutia, $x^*$;\n",
    "\n",
    "- `rez2` este norma la patrat a reziduului: $\\mbox{rez2}=\\|b-Ax^*\\|^2$ \n",
    "\n",
    "- `rangA` este rangul matricii `A`\n",
    "\n",
    "- `singA` sunt valorile singulare ale lui `A` (se vor studia in Cursul 12)\n",
    "    "
   ]
  },
  {
   "cell_type": "markdown",
   "metadata": {},
   "source": [
    "- Solutia celor mai mici patrate este solutie a sistemului normal $A^TAx=A^Tb$.\n",
    "\n",
    "- Deoarece rang($A^TA$)=rang($A$) (vezi Cursul 7), rezulta ca daca coloanele $c_1, c_2, \\ldots, c_n$ ale matricii $A$ sunt liniar independente,\n",
    " atunci $A$ are rangul $n$, iar sistemul normal are o unica solutie,\n",
    "$x^*$.\n",
    "\n",
    "- Daca rangul lui $A$ este mai mic decat $n$ sistemul normal este compatibil nedeterminat si admite o infinitate de solutii $x^*$, astfel incat pentru fiecare dintre ele eroarea de aproximare este minima:\n",
    "\n",
    "$||b-Ax^*||^2\\leq ||b-Ax||^2$, $\\forall x\\in\\mathbb{R}^n$."
   ]
  },
  {
   "cell_type": "markdown",
   "metadata": {},
   "source": [
    "Dam cateva exemple de calcul a solutiei celor mai mici patrate:"
   ]
  },
  {
   "cell_type": "code",
   "execution_count": 2,
   "metadata": {},
   "outputs": [
    {
     "name": "stdout",
     "output_type": "stream",
     "text": [
      "(4L, 2L)\n",
      "Rangul matricii A este: 2\n",
      "Solutia celor mai mici patrate este: [-0.30631511 -1.07308095]\n",
      "Norma reziduului la patrat: [ 14.37779594]\n"
     ]
    }
   ],
   "source": [
    "import numpy as np\n",
    "A=np.array([[1,2], [-3,1], [5,-1.2], [-2.14, -3.4]], float)\n",
    "b=np.array([-5, 2,1,3], float)\n",
    "[xstar, rez2, rang, sing]=np.linalg.lstsq(A,b)\n",
    "print A.shape\n",
    "print 'Rangul matricii A este:', rang\n",
    "print 'Solutia celor mai mici patrate este:', xstar\n",
    "print 'Norma reziduului la patrat:', rez2"
   ]
  },
  {
   "cell_type": "markdown",
   "metadata": {},
   "source": [
    "Daca $m=n$ matricea $A$ este patratica. Daca $A$ este  nesingulara, atunci solutia celor mai mici patrate este unica solutie pe care sistemul $Ax=b$ o admite:"
   ]
  },
  {
   "cell_type": "code",
   "execution_count": 3,
   "metadata": {},
   "outputs": [
    {
     "name": "stdout",
     "output_type": "stream",
     "text": [
      "Rangul matricii A este: 3\n",
      "Solutia celor mai mici patrate este: [-0.22222222 -5.55555556 -3.22222222]\n",
      "Norma reziduului la patrat: []\n"
     ]
    }
   ],
   "source": [
    "A=np.array([[1,0,-1], [2,3,-5], [4,-2, 1]],float)\n",
    "b=np.array([3, -1, 7], float)\n",
    "[xstar, rez2, rang, sing]=np.linalg.lstsq(A,b)\n",
    "\n",
    "print 'Rangul matricii A este:', rang\n",
    "print 'Solutia celor mai mici patrate este:', xstar\n",
    "print 'Norma reziduului la patrat:', rez2"
   ]
  },
  {
   "cell_type": "markdown",
   "metadata": {},
   "source": [
    "Rezolvand uzual sistemul normal $A^TAx=A^Tb$ obtinem solutia celor mai mici patrate ca mai sus:"
   ]
  },
  {
   "cell_type": "code",
   "execution_count": 4,
   "metadata": {},
   "outputs": [
    {
     "name": "stdout",
     "output_type": "stream",
     "text": [
      "[-0.22222222 -5.55555556 -3.22222222]\n"
     ]
    }
   ],
   "source": [
    "M=np.dot(A.transpose(), A)# \n",
    "c=np.dot(A.transpose(), b)# Mx=c -->  x=inv(M)c\n",
    "xx=np.dot(np.linalg.inv(M), c)\n",
    "print xx"
   ]
  },
  {
   "cell_type": "markdown",
   "metadata": {},
   "source": [
    "Sa ilustram solutiile analitice ale sistemului $A^TAx=A^Tb$, in cazul in care rangul matricii $A$, \n",
    "deci si al matricii $A^TA$ este mai mic decat $n$.\n",
    "Apoi invocam functia `np.linalg.lstsq(A,b)` si identificam printre solutiile analitice, pe cea numerica returnata de functia `np.linalg.leastsq`.\n",
    "\n",
    "Pentru aceasta, construim dintr-o lista o matrice din $\\mathbb{R}^{6\\times 4}$:"
   ]
  },
  {
   "cell_type": "code",
   "execution_count": 5,
   "metadata": {},
   "outputs": [
    {
     "name": "stdout",
     "output_type": "stream",
     "text": [
      "[[ 1. -3.  0.  0.]\n",
      " [-3.  0.  0.  1.]\n",
      " [ 0.  0.  1. -3.]\n",
      " [ 1. -3.  0.  0.]\n",
      " [-3.  0.  0.  1.]\n",
      " [ 0.  0.  1. -3.]]\n",
      "[[ 20.  -6.   0.  -6.]\n",
      " [ -6.  18.   0.   0.]\n",
      " [  0.   0.   2.  -6.]\n",
      " [ -6.   0.  -6.  20.]]\n",
      "[-14. -12.   2.   0.]\n"
     ]
    }
   ],
   "source": [
    "L=2*[1, -3, 0, 0, -3,0,0,1, 0,0,1,-3]\n",
    "A=np.asarray(L, float).reshape((6,4))#convertim lista la un array pe care il  redimensionam\n",
    "b=np.array([2,8,-3,2,-2,5], float) # vectorul termenilor liberi ai sistemului Ax=b\n",
    "print A\n",
    "M=np.dot(A.transpose(), A)#M=A^TA\n",
    "c=np.dot(A.transpose(), b)# c=A^T b\n",
    "print M\n",
    "print c"
   ]
  },
  {
   "cell_type": "markdown",
   "metadata": {},
   "source": [
    "Forma scara redusa a matricii prelungite, $\\overline{M}=[M|c]$, a sistemului $Mx=c$ este:"
   ]
  },
  {
   "cell_type": "markdown",
   "metadata": {},
   "source": [
    "$$S_{\\overline{M}}^0=\\left[\\begin{array}{rrrrr} 1&0&0&-1/3& -1\\\\0&1&0&-1/9&-1\\\\0&0&1&-3&1\\\\0&0&0&0&0\\end{array}\\right]$$"
   ]
  },
  {
   "cell_type": "markdown",
   "metadata": {},
   "source": [
    "Prin urmare sistemul $Mx=c$ este compatibil nedeterminat si daca rezolvam sistemul echivalent definit de  forma scara redusa,  de mai sus, avem solutiile:\n",
    "$$\\begin{array}{ll}\\begin{array}{lll}\n",
    "x_1^*&=& \\displaystyle\\frac{x_4^*}{3}-1\\\\\n",
    "x_2^*&=&\\displaystyle\\frac{x_4^*}{9}-1\\\\\n",
    "x_3^*&=&3x_4^*+1\\end{array}\\quad x_4^*\\in\\mathbb{R}\\end{array}$$"
   ]
  },
  {
   "cell_type": "markdown",
   "metadata": {},
   "source": [
    "Astfel, pentru fiecare alegere particulara a lui $x_4^*$ (necunoscuta secundara a sistemului) obtinem o alta solutie, $x^*=(x_4^*/3-1, x_4^*/9-1, 3x_4^*+1, x_4^*)^T$, a celor mai mici patrate. Toate aceste solutii au particularitatea ca $Ax^*=b'$, unde $b'$ este proiectia ortogonala a lui $b$ pe subspatiul coloanelor, col(A). $b'$ este unic, in timp ce $x^*$ nu este unic. Cu alte cuvinte aplicatia liniara $L:\\mathbb{R}^4\\to col(A)$, $L(x)=A*x$ nu este injectiva, pentru ca exista o infinitate de vectori $x^*$ care sunt aplicati in acelasi vector $b'\\in col(A)$."
   ]
  },
  {
   "cell_type": "markdown",
   "metadata": {},
   "source": [
    "Solutia numerica a celor mai mici patrate pentru sistemul $Ax=b$, unde $A$ si $b$ sunt matricile de mai sus este:\n",
    "    "
   ]
  },
  {
   "cell_type": "code",
   "execution_count": 6,
   "metadata": {},
   "outputs": [
    {
     "name": "stdout",
     "output_type": "stream",
     "text": [
      "Rangul matricii A este: 3\n",
      "Solutia celor mai mici patrate este: [-1.08414634 -1.02804878  0.24268293 -0.25243902]\n",
      "Norma reziduului la patrat: []\n"
     ]
    }
   ],
   "source": [
    "[xstar, rez2, rang, sing]=np.linalg.lstsq(A,b)\n",
    "\n",
    "print 'Rangul matricii A este:', rang\n",
    "print 'Solutia celor mai mici patrate este:', xstar\n",
    "print 'Norma reziduului la patrat:', rez2"
   ]
  },
  {
   "cell_type": "markdown",
   "metadata": {},
   "source": [
    "Remarcam ca din infinitatea de solutii analitice, numeric este calculata una singura, corespunzatoare lui\n",
    "$x_4^*=xstar[3]$  (Atentie!  indexarea coordonatelor lui $x^*$ este tipica pentru matematica, iar ale lui `xstar` \n",
    "                   este cea din Python)."
   ]
  },
  {
   "cell_type": "markdown",
   "metadata": {},
   "source": [
    "Daca incercam sa transmitem ca argument $A$ al functiei `np.linalg.lstsq(A,b)` o matrice avand numarul de linii mai mic decat numarul de coloane,\n",
    "este afisat un mesaj de eroare, pentru ca solutia celor mai mici patrate exista doar pentru sistemele $Ax=b$, unde numarul liniilor lui $A$ este mai mare sau\n",
    "egal cu numarul coloanelor:"
   ]
  },
  {
   "cell_type": "code",
   "execution_count": 7,
   "metadata": {},
   "outputs": [
    {
     "ename": "LinAlgError",
     "evalue": "Incompatible dimensions",
     "output_type": "error",
     "traceback": [
      "\u001b[1;31m---------------------------------------------------------------------------\u001b[0m\n\u001b[1;31mLinAlgError\u001b[0m                               Traceback (most recent call last)",
      "\u001b[1;32m<ipython-input-7-712fc55c8156>\u001b[0m in \u001b[0;36m<module>\u001b[1;34m()\u001b[0m\n\u001b[0;32m      1\u001b[0m \u001b[0mA\u001b[0m\u001b[1;33m=\u001b[0m\u001b[0mnp\u001b[0m\u001b[1;33m.\u001b[0m\u001b[0marray\u001b[0m\u001b[1;33m(\u001b[0m\u001b[1;33m[\u001b[0m\u001b[1;33m[\u001b[0m\u001b[1;36m2\u001b[0m\u001b[1;33m,\u001b[0m \u001b[1;36m3\u001b[0m\u001b[1;33m,\u001b[0m \u001b[1;33m-\u001b[0m\u001b[1;36m4\u001b[0m\u001b[1;33m]\u001b[0m\u001b[1;33m,\u001b[0m \u001b[1;33m[\u001b[0m\u001b[1;36m1\u001b[0m\u001b[1;33m,\u001b[0m\u001b[1;36m5\u001b[0m\u001b[1;33m,\u001b[0m\u001b[1;33m-\u001b[0m\u001b[1;36m2\u001b[0m\u001b[1;33m]\u001b[0m\u001b[1;33m]\u001b[0m\u001b[1;33m,\u001b[0m \u001b[0mfloat\u001b[0m\u001b[1;33m)\u001b[0m\u001b[1;33m\u001b[0m\u001b[0m\n\u001b[0;32m      2\u001b[0m \u001b[0mb\u001b[0m\u001b[1;33m=\u001b[0m\u001b[0mnp\u001b[0m\u001b[1;33m.\u001b[0m\u001b[0marray\u001b[0m\u001b[1;33m(\u001b[0m\u001b[1;33m[\u001b[0m\u001b[1;33m-\u001b[0m\u001b[1;36m1\u001b[0m\u001b[1;33m,\u001b[0m\u001b[1;36m3\u001b[0m\u001b[1;33m,\u001b[0m\u001b[1;36m7\u001b[0m\u001b[1;33m]\u001b[0m\u001b[1;33m,\u001b[0m \u001b[0mfloat\u001b[0m\u001b[1;33m)\u001b[0m\u001b[1;33m\u001b[0m\u001b[0m\n\u001b[1;32m----> 3\u001b[1;33m \u001b[1;33m[\u001b[0m\u001b[0mxstar\u001b[0m\u001b[1;33m,\u001b[0m \u001b[0mrez2\u001b[0m\u001b[1;33m,\u001b[0m \u001b[0mrang\u001b[0m\u001b[1;33m,\u001b[0m \u001b[0msing\u001b[0m\u001b[1;33m]\u001b[0m\u001b[1;33m=\u001b[0m\u001b[0mnp\u001b[0m\u001b[1;33m.\u001b[0m\u001b[0mlinalg\u001b[0m\u001b[1;33m.\u001b[0m\u001b[0mlstsq\u001b[0m\u001b[1;33m(\u001b[0m\u001b[0mA\u001b[0m\u001b[1;33m,\u001b[0m\u001b[0mb\u001b[0m\u001b[1;33m)\u001b[0m\u001b[1;33m\u001b[0m\u001b[0m\n\u001b[0m",
      "\u001b[1;32mC:\\Anaconda\\lib\\site-packages\\numpy\\linalg\\linalg.pyc\u001b[0m in \u001b[0;36mlstsq\u001b[1;34m(a, b, rcond)\u001b[0m\n\u001b[0;32m   1801\u001b[0m     \u001b[0mldb\u001b[0m \u001b[1;33m=\u001b[0m \u001b[0mmax\u001b[0m\u001b[1;33m(\u001b[0m\u001b[0mn\u001b[0m\u001b[1;33m,\u001b[0m \u001b[0mm\u001b[0m\u001b[1;33m)\u001b[0m\u001b[1;33m\u001b[0m\u001b[0m\n\u001b[0;32m   1802\u001b[0m     \u001b[1;32mif\u001b[0m \u001b[0mm\u001b[0m \u001b[1;33m!=\u001b[0m \u001b[0mb\u001b[0m\u001b[1;33m.\u001b[0m\u001b[0mshape\u001b[0m\u001b[1;33m[\u001b[0m\u001b[1;36m0\u001b[0m\u001b[1;33m]\u001b[0m\u001b[1;33m:\u001b[0m\u001b[1;33m\u001b[0m\u001b[0m\n\u001b[1;32m-> 1803\u001b[1;33m         \u001b[1;32mraise\u001b[0m \u001b[0mLinAlgError\u001b[0m\u001b[1;33m(\u001b[0m\u001b[1;34m'Incompatible dimensions'\u001b[0m\u001b[1;33m)\u001b[0m\u001b[1;33m\u001b[0m\u001b[0m\n\u001b[0m\u001b[0;32m   1804\u001b[0m     \u001b[0mt\u001b[0m\u001b[1;33m,\u001b[0m \u001b[0mresult_t\u001b[0m \u001b[1;33m=\u001b[0m \u001b[0m_commonType\u001b[0m\u001b[1;33m(\u001b[0m\u001b[0ma\u001b[0m\u001b[1;33m,\u001b[0m \u001b[0mb\u001b[0m\u001b[1;33m)\u001b[0m\u001b[1;33m\u001b[0m\u001b[0m\n\u001b[0;32m   1805\u001b[0m     \u001b[0mresult_real_t\u001b[0m \u001b[1;33m=\u001b[0m \u001b[0m_realType\u001b[0m\u001b[1;33m(\u001b[0m\u001b[0mresult_t\u001b[0m\u001b[1;33m)\u001b[0m\u001b[1;33m\u001b[0m\u001b[0m\n",
      "\u001b[1;31mLinAlgError\u001b[0m: Incompatible dimensions"
     ]
    }
   ],
   "source": [
    "A=np.array([[2, 3, -4], [1,5,-2]], float)\n",
    "b=np.array([-1,3,7], float)\n",
    "[xstar, rez2, rang, sing]=np.linalg.lstsq(A,b)"
   ]
  },
  {
   "cell_type": "markdown",
   "metadata": {},
   "source": [
    "## Aplicatie:  Constructia unui model adecvat pentru date"
   ]
  },
  {
   "cell_type": "markdown",
   "metadata": {},
   "source": [
    "In experimentele  de laborator sau intr-o observatie statistica se inregistreaza valorile  a doua variabile\n",
    "$X$ si $Y$, monitorizate: $(x_1,y_1), (x_2, y_2), \\ldots, (x_n,y_n)$.\n",
    "    \n",
    " Pentru a putea face predictii relativ la valorile variabilei $Y$ pe baza valorilor lui $X$,\n",
    "se determina din datele de observatie, o relatie functionala, $Y=f(X)$, intre cele doua variabile, care aproximeaza intr-un anume sens datele observate $(x_i, y_i)$, prin $(x_i, \\hat{y}_i=f(x_i))$. Pentru o valoare $X=a$, valoarea predictionata pentru $Y$ este atunci\n",
    "$\\hat{y}=f(a)$.\n",
    "\n",
    "Determinarea unei relatii functionale  din date se numeste in statistica si machine learning, ajustarea unui  model la date (*fitting a model to data*)."
   ]
  },
  {
   "cell_type": "markdown",
   "metadata": {},
   "source": [
    "Cel mai simplu model pentru un set de date $(x_i,y_i)$, $i=\\overline{1,n}$, $n>2$, este modelul liniar, $y=ax+b$.\n",
    "\n",
    "Daca punctele $(x_i,y_i)$ nu sunt coliniare, atunci nu exista o dreapta care sa le contina si prin urmare sistemul rezultat impunand ca aceste puncte sa verifice ecuatia $y=ax+b$:\n",
    "$$\\begin{array}{ccc}\n",
    "ax_1+b&=&y_1\\\\\n",
    "ax_2+b&=&y_2\\\\\n",
    "\\vdots& &\\\\\n",
    "ax_n+b&=&y_n\\end{array}$$\n",
    "\n",
    "este un sistem incompatibil supradeterminat, in necunoscutele $a,b$, care sunt parametrii dreptei.\n",
    "\n",
    "Solutia celor mai mici patrate a acestui sistem este $(a^*, b^*)$ si ea defineste o dreapta\n",
    "de ecuatie $y=a^*x+b^*$, numita dreapta celor mai mici patrate, deoarece (vezi Cursul 7) aproximand valorile $y_i$ prin $\\hat{y}_i=a^*x_i+b^*$, suma erorilor la patrat este minima:\n",
    "\n",
    "$$\\sum_{i=1}^n (y_i-(a^*x_i+b^*))^2\\leq \\sum_{i=1}^n (y_i-(ax_i+b))^2, \\quad \\forall\\:\\: a, b\\in\\mathbb{R},$$\n",
    "adica dintre toate dreptele din plan, de ecuatie $y=ax+b$, dreapta $y=a^*x+b^*$ aproximeaza cel mai bine datele.\n"
   ]
  },
  {
   "cell_type": "markdown",
   "metadata": {},
   "source": [
    "In Machine learning in locul erorii globale la patrat, $Er=\\sum_{i=1}^n(y_i-\\hat{y}_i)^2$, returnate de `np.linalg.lstsq`,\n",
    "se analizeaza media aritmetica a erorilor la patrat,  calculate in fiecare punct: \n",
    "    $$\\displaystyle\\frac{1}{n}\\sum_{i=1}^n(y_i-\\hat{y}_i)^2$$\n",
    "Daca aceasta medie este \"rezonabila\", atunci modelul functional dedus este considerat adecvat pentru date."
   ]
  },
  {
   "cell_type": "markdown",
   "metadata": {},
   "source": [
    "Sa ilustram calculul dreptei celor mai mici patrate in Python, pornind de la datele statistice (fictive) ce reprezinta media generala pe tara, la bacalaureat,  obtinuta de absolventii de liceu in cativa ani.\n"
   ]
  },
  {
   "cell_type": "markdown",
   "metadata": {},
   "source": [
    "<table border=\"1\" bordercolor=\"#000099\" style=\"background-color:#FFFFFF\" width=\"75%\" cellpadding=\"3\" cellspacing=\"0\">\n",
    "\t<tr>\n",
    "\t\t<td>Anul absolvirii (x)</td>\n",
    "\t\t<td>1970</td>\n",
    "\t\t<td>1978 </td>\n",
    "\t\t<td>1985</td>\n",
    "\t\t<td> 1990</td>\n",
    "\t\t<td>1995 </td>\n",
    "\t\t<td>2000 </td>\n",
    "\t\t<td>2006 </td>\n",
    "\t\t<td>2010 </td>\n",
    "\t</tr>\n",
    "\t<tr>\n",
    "\t\t<td>Media (y)</td>\n",
    "\t\t<td>8.75</td>\n",
    "\t\t<td>8.58</td>\n",
    "\t\t<td>8.95</td>\n",
    "\t\t<td>7.90</td>\n",
    "\t\t<td>8.15</td>\n",
    "\t\t<td>7.70 </td>\n",
    "\t\t<td>7.25 </td>\n",
    "\t\t<td>6.33 </td>\n",
    "\t</tr>\n",
    "</table>\n"
   ]
  },
  {
   "cell_type": "markdown",
   "metadata": {},
   "source": [
    "Sa se determine dreapta celor mai mici patrate, si media patratului erorilor. In ipoteza ca aceasta dreapta este un model adecvat pentru datele inregistrate sa se predictioneze care va fi media la bacalaureat in anul 2014."
   ]
  },
  {
   "cell_type": "code",
   "execution_count": 8,
   "metadata": {},
   "outputs": [],
   "source": [
    "%matplotlib inline"
   ]
  },
  {
   "cell_type": "code",
   "execution_count": 9,
   "metadata": {},
   "outputs": [
    {
     "data": {
      "text/plain": [
       "[<matplotlib.lines.Line2D at 0x86d8550>]"
      ]
     },
     "execution_count": 9,
     "metadata": {},
     "output_type": "execute_result"
    },
    {
     "data": {
      "image/png": "[encoded data removed]",
      "text/plain": [
       "<matplotlib.figure.Figure at 0x86090f0>"
      ]
     },
     "metadata": {},
     "output_type": "display_data"
    }
   ],
   "source": [
    "import matplotlib.pyplot as plt\n",
    " \n",
    "x=np.array([1970, 1978, 1985, 1990, 1995, 2000, 2006, 2010], float)\n",
    "y=np.array([8.75, 8.58, 8.95, 7.90, 8.15, 7.70, 7.25, 6.33], float)\n",
    "plt.plot(x,y,  'go')"
   ]
  },
  {
   "cell_type": "markdown",
   "metadata": {},
   "source": [
    "Matricea sistemului  de ecuatii  $ax_i+b=y_i$, $i=\\overline{1,8}$, o constituim apeland functia\n",
    "\n",
    "`np.vstack (tuple)` \n",
    "\n",
    "care genereaza  un array avand drept linii, array-urile 1D din tuple. Prin transpunerea array-ului generat avem matricea sistemului:"
   ]
  },
  {
   "cell_type": "code",
   "execution_count": 10,
   "metadata": {},
   "outputs": [
    {
     "name": "stdout",
     "output_type": "stream",
     "text": [
      "[[  1.97000000e+03   1.00000000e+00]\n",
      " [  1.97800000e+03   1.00000000e+00]\n",
      " [  1.98500000e+03   1.00000000e+00]\n",
      " [  1.99000000e+03   1.00000000e+00]\n",
      " [  1.99500000e+03   1.00000000e+00]\n",
      " [  2.00000000e+03   1.00000000e+00]\n",
      " [  2.00600000e+03   1.00000000e+00]\n",
      " [  2.01000000e+03   1.00000000e+00]]\n",
      "dreapta celor mai mici patrate are parametrii a= -0.0555846850245 b= 118.662046398\n",
      "Media erorilor la patrat  este [ 0.14511836]\n",
      "Media la bacalaureat predictionata de model pentru anul 2014 este 6.7144907582\n"
     ]
    }
   ],
   "source": [
    "A=np.vstack((x, np.ones(x.size))).transpose()\n",
    "print A\n",
    "[[a, b], Er]=np.linalg.lstsq(A,y)[:2]# cerem returnarea primelor doua obiecte din lista globala\n",
    "print 'dreapta celor mai mici patrate are parametrii a=', a, 'b=', b\n",
    "print 'Media erorilor la patrat  este', Er/len(x)\n",
    "print 'Media la bacalaureat predictionata de model pentru anul 2014 este', a*2014+b"
   ]
  },
  {
   "cell_type": "code",
   "execution_count": 11,
   "metadata": {},
   "outputs": [
    {
     "data": {
      "text/plain": [
       "[<matplotlib.lines.Line2D at 0x89d5a20>]"
      ]
     },
     "execution_count": 11,
     "metadata": {},
     "output_type": "execute_result"
    },
    {
     "data": {
      "image/png": "[encoded data removed]",
      "text/plain": [
       "<matplotlib.figure.Figure at 0x86e7a90>"
      ]
     },
     "metadata": {},
     "output_type": "display_data"
    }
   ],
   "source": [
    "xx=[1965, 2015]\n",
    "# dreapta este perfect determinata de doua puncte (1965, a*1965+b), (2015, a*2015+b)\n",
    "yy=[]\n",
    "for an in xx:\n",
    "    yy.append(a*an+b)\n",
    "plt.plot(xx, yy, 'r')# este trasata dreapta ce uneste punctele alese\n",
    "plt.plot(x,y, 'go')# marcam datele din nou pentru a vedea pozitia fata de dreapta model\n",
    "plt.plot(2014, a*2014+b, 'ro')# marcam pe dreapta punctul de coordonate (2014,a*2014+b) \n"
   ]
  },
  {
   "cell_type": "markdown",
   "metadata": {},
   "source": [
    "Din punct de vedere algebric dreapta celor mai mici patrate exista si este unica pentru orice set de date\n",
    "$(x_i, y_i)$, $i=\\overline{1,n}$, $n>2$, care nu apartin unei drepte verticale $y=c$. Nu intotdeauna insa dreapta celor mai mici patrate este modelul adecvat pentru date, asa cum se vede din exemplul urmator:\n"
   ]
  },
  {
   "cell_type": "code",
   "execution_count": 12,
   "metadata": {},
   "outputs": [
    {
     "name": "stdout",
     "output_type": "stream",
     "text": [
      "Dreapta celor mai mici patrate are parametrii a= 0.535426695817 b= 0.160863926309\n",
      "Eroarea la patrat a celor mai mici patrate este [ 37.73342705]\n",
      "Media erorii la patrat [ 2.69524479]\n"
     ]
    },
    {
     "data": {
      "image/png": "[encoded data removed]",
      "text/plain": [
       "<matplotlib.figure.Figure at 0x85fcb00>"
      ]
     },
     "metadata": {},
     "output_type": "display_data"
    }
   ],
   "source": [
    "\n",
    "x=[ 0.63, 1.19, 1.44, 2.13,  2.88, 3, 3.46, 3.66, 3.71, 4.19,  4.29, 4.46, 4.67,  4.83]\n",
    "y=[ 3.63, 1.42, 0.81, 0.43, -1.02, -0.22, 0.13, 0.93, 1.48,  2.97,  2.52, 3.41, 4.54,  5.07]\n",
    "x=np.array(x)\n",
    "y=np.array(y)\n",
    "A=np.vstack((x, np.ones(x.size))).transpose()\n",
    "plt.plot(x,y,  color=\"green\", lw=2, ls='*', marker='o')\n",
    "[[a, b], Er]=np.linalg.lstsq(A,y)[:2]\n",
    "xx=[0, 5]\n",
    "yy=[]\n",
    "for elem in xx:\n",
    "    yy.append(a*elem+b)\n",
    "plt.plot(xx, yy, 'r')\n",
    "print 'Dreapta celor mai mici patrate are parametrii a=', a, 'b=', b\n",
    "print 'Eroarea la patrat a celor mai mici patrate este', Er\n",
    "print 'Media erorii la patrat', Er/len(x)"
   ]
  },
  {
   "cell_type": "markdown",
   "metadata": {},
   "source": [
    "Media erorii la patrat fiind mare, modelul liniar nu pare sa fie potrivit pentru aceste date.\n",
    "\n",
    "Vizual\n",
    "ne este sugerata ideea sa incercam un model patratic $y=a x^2+bx+c$."
   ]
  },
  {
   "cell_type": "markdown",
   "metadata": {},
   "source": [
    "Impunand ca cele 14 puncte $(x_i, y_i)$ sa verifice ecuatia patratica,\n",
    "$ ax_i^2+bx_i+c=y_i$,\n",
    "obtinem un sistem de 14 ecuatii cu 3 necunoscute, $a, b, c$:\n"
   ]
  },
  {
   "cell_type": "markdown",
   "metadata": {},
   "source": [
    "$$\\left[\\begin{array}{ccc} x_1^2&x_1&1\\\\\n",
    " x_2^2&x_2&1\\\\\n",
    "\\vdots&\\vdots&\\vdots\\\\\n",
    "x_n^2&x_n&1\\end{array}\\right]\n",
    "\\left[\\begin{array}{c} a\\\\b\\\\c\\end{array}\\right]\n",
    "=\\left[\\begin{array}{c}y_1\\\\y_2\\\\\\vdots\\\\y_n\\end{array}\\right]$$\n",
    "Sa-i determinam solutia celor mai mici patrate:"
   ]
  },
  {
   "cell_type": "code",
   "execution_count": 13,
   "metadata": {},
   "outputs": [
    {
     "name": "stdout",
     "output_type": "stream",
     "text": [
      "[[  0.3969   0.63     1.    ]\n",
      " [  1.4161   1.19     1.    ]\n",
      " [  2.0736   1.44     1.    ]\n",
      " [  4.5369   2.13     1.    ]\n",
      " [  8.2944   2.88     1.    ]\n",
      " [  9.       3.       1.    ]\n",
      " [ 11.9716   3.46     1.    ]\n",
      " [ 13.3956   3.66     1.    ]\n",
      " [ 13.7641   3.71     1.    ]\n",
      " [ 17.5561   4.19     1.    ]\n",
      " [ 18.4041   4.29     1.    ]\n",
      " [ 19.8916   4.46     1.    ]\n",
      " [ 21.8089   4.67     1.    ]\n",
      " [ 23.3289   4.83     1.    ]]\n",
      "Parabola celor mai mici patrate are parametrii a= 1.08768693133 b= -5.55411054235 c= 6.64995629202\n",
      "Eroarea medie [ 0.12060332]\n"
     ]
    },
    {
     "data": {
      "text/plain": [
       "[<matplotlib.lines.Line2D at 0x89e5b70>]"
      ]
     },
     "execution_count": 13,
     "metadata": {},
     "output_type": "execute_result"
    },
    {
     "data": {
      "image/png": "[encoded data removed]",
      "text/plain": [
       "<matplotlib.figure.Figure at 0x8615b00>"
      ]
     },
     "metadata": {},
     "output_type": "display_data"
    }
   ],
   "source": [
    "n=len(x)\n",
    "A=np.vstack((x*x, x, np.ones(x.size))).transpose()\n",
    "print A\n",
    "[[a, b, c], Er]=np.linalg.lstsq(A,y)[:2]\n",
    "print 'Parabola celor mai mici patrate are parametrii a=', a, 'b=', b, 'c=', c\n",
    "print 'Eroarea medie', Er/n\n",
    "X=np.arange(x[0], x[n-1], 0.01)\n",
    "plt.plot(X, a*X*X+b*X+c, 'r')\n",
    "#nu am  apelat plt.plot(x, a*x*x+b*x+c, 'r') pt ca plt.plot uneste punctele \n",
    "#consecutive (x[i], y[i]), (x[i+1], y[i+1])\n",
    "#prin segmente de dreapta si punctele fiind \"rare\" nu era trasata o parabola,\n",
    "# ci o succesiune de segmente ce o aproximeaza. Testati!!!\n",
    "plt.plot(x,y,  color=\"green\", lw=2, ls='*', marker='o')"
   ]
  },
  {
   "cell_type": "markdown",
   "metadata": {},
   "source": [
    "Atat eroarea medie, cat si figura de mai sus ilustreaza ca modelul patratic (parabola celor mai mici patrate) este mai adecvat pentru datele considerate.\n",
    "\n",
    "In semestrul doi metoda cel mai mici patrate va fi rafinata prin analiza  regresiei."
   ]
  },
  {
   "cell_type": "markdown",
   "metadata": {},
   "source": [
    "In secventele de cod de mai sus am urmat metoda manuala de calcul a dreptei, respectiv parabolei celor mai mici patrate,\n",
    "adica am constituit matricea sistemului supradeterminat asociat si am apelat functia `lstsq`, pentru a ilustra \n",
    "legatura cu solutia celor mai mici patrate.\n",
    "\n"
   ]
  },
  {
   "cell_type": "markdown",
   "metadata": {},
   "source": [
    "Setului de date\n",
    "$(x_i, y_i)$, $i=\\overline{0,n-1}$, $n>k$,  i se poate asocia polinomul de grad $k$ al celor mai mici patrate,\n",
    "$y=p[0]x^k+p[1]x^{k-1}+\\cdots+p[k-1]x+p[k]$, apeland direct functia `np.polyfit(x,y,k)`.\n",
    "\n",
    "Array-ul `x`, ca argument al functiei, contine abscisele punctelor $(x_i, y_i)$, iar `y`, ordonatele lor.\n",
    "\n",
    "Functia returneaza coeficientii polinomului si optional reziduul si alte informatii:\n",
    "    [numpy.polyfit](http://docs.scipy.org/doc/numpy/reference/generated/numpy.polyfit.html)"
   ]
  },
  {
   "cell_type": "code",
   "execution_count": 14,
   "metadata": {},
   "outputs": [
    {
     "name": "stdout",
     "output_type": "stream",
     "text": [
      "[ 1.08768693 -5.55411054  6.64995629]\n"
     ]
    }
   ],
   "source": [
    "p=np.polyfit(x,y,2)\n",
    "print p"
   ]
  },
  {
   "cell_type": "code",
   "execution_count": 2,
   "metadata": {},
   "outputs": [
    {
     "data": {
      "text/html": [
       "<style>\n",
       "    /*body {\n",
       "        background-color: #F5F5F5;\n",
       "    }*/\n",
       "    div.cell{\n",
       "        width: 900px;\n",
       "        margin-left: 13% !important;\n",
       "        margin-right: auto;\n",
       "    }\n",
       "    #notebook li { /* More space between bullet points */\n",
       "    margin-top:0.8em;\n",
       "    }\n",
       "\n",
       "    h1 {\n",
       "        font-family: 'Alegreya Sans', sans-serif;\n",
       "    }\n",
       "    .text_cell_render h1 {\n",
       "        font-weight: 200;\n",
       "        font-size: 40pt;\n",
       "        line-height: 100%;\n",
       "        color: rgb(8, 66, 133);\n",
       "        margin-bottom: 0em;\n",
       "        margin-top: 0em;\n",
       "        display: block;\n",
       "    }\n",
       "    h2 {\n",
       "        font-family: 'Fenix', serif;\n",
       "        text-indent:1em;\n",
       "        text-align:center;\n",
       "    }\n",
       "    .text_cell_render h2 {\n",
       "        font-weight: 200;\n",
       "        font-size: 28pt;\n",
       "        line-height: 100%;\n",
       "        color: rgb(8, 66, 133);\n",
       "        margin-bottom: 1.5em;\n",
       "        margin-top: 0.5em;\n",
       "        display: block;\n",
       "    }\n",
       "    h3 {\n",
       "        font-family: 'Fenix', serif;\n",
       "        %margin-top:12px;\n",
       "        %margin-bottom: 3px;\n",
       "    }\n",
       "    .text_cell_render h3 {\n",
       "        font-weight: 300;\n",
       "        font-size: 18pt;\n",
       "        line-height: 100%;\n",
       "        color: rgb(8, 66, 133);\n",
       "        margin-bottom: 0.5em;\n",
       "        margin-top: 2em;\n",
       "        display: block;\n",
       "    }\n",
       "    h4 {\n",
       "        font-family: 'Fenix', serif;\n",
       "    }\n",
       "    .text_cell_render h4 {\n",
       "        font-weight: 300;\n",
       "        font-size: 16pt;\n",
       "        color: rgb(8, 66, 133);\n",
       "        margin-bottom: 0.5em;\n",
       "        margin-top: 0.5em;\n",
       "        display: block;\n",
       "    }\n",
       "    h5 {\n",
       "        font-family: 'Alegreya Sans', sans-serif;\n",
       "    }\n",
       "    .text_cell_render h5 {\n",
       "        font-weight: 300;\n",
       "        font-style: normal;\n",
       "        font-size: 16pt;\n",
       "        margin-bottom: 0em;\n",
       "        margin-top: 1.5em;\n",
       "        display: block;\n",
       "        }\n",
       "    div.text_cell_render{\n",
       "        font-family: 'Alegreya Sans',Computer Modern, \"Helvetica Neue\", Arial, Helvetica, Geneva, sans-serif;\n",
       "        line-height: 145%;\n",
       "        font-size: 130%;\n",
       "        width:900px;\n",
       "        margin-left:auto;\n",
       "        margin-right:auto;\n",
       "        %text-align:justify;\n",
       "        %text-justify:inter-word;\n",
       "    }\n",
       "    \n",
       "    \n",
       "    code{\n",
       "      font-size: 78%;\n",
       "    }\n",
       "    .rendered_html code{\n",
       "        background-color: transparent;\n",
       "        white-space: inherit;   \n",
       "    }\n",
       "    .prompt{\n",
       "        display: None;\n",
       "     }\n",
       "    .rendered_html code{\n",
       "    background-color: transparent;\n",
       "    }\n",
       "\n",
       "    blockquote{\n",
       "      display:block;\n",
       "      background: #f3f3f3;\n",
       "      font-family: \"Open sans\",verdana,arial,sans-serif;\n",
       "      width:610px;\n",
       "      padding: 15px 15px 15px 15px;\n",
       "      text-align:justify;\n",
       "      text-justify:inter-word;\n",
       "      }\n",
       "      blockquote p {\n",
       "        margin-bottom: 0;\n",
       "        line-height: 125%;\n",
       "        font-size: 100%;\n",
       "      }\n",
       "   /* element.style {\n",
       "    } */\n",
       "</style>\n",
       "<script>\n",
       "    MathJax.Hub.Config({\n",
       "                        TeX: {\n",
       "                           extensions: [\"AMSmath.js\"]\n",
       "                           },\n",
       "                tex2jax: {\n",
       "                    inlineMath: [ [\"$\",\"$\"], [\"\\\\(\",\"\\\\)\"] ],\n",
       "                    displayMath: [ [\"$$\",\"$$\"], [\"\\\\[\",\"\\\\]\"] ]\n",
       "                },\n",
       "                displayAlign: \"center\", // Change this to \"center\" to center equations.\n",
       "                \"HTML-CSS\": {\n",
       "                    styles: {\".MathJax_Display\": {\"margin\": 4}}\n",
       "                }\n",
       "        });\n",
       "</script>\n"
      ],
      "text/plain": [
       "<IPython.core.display.HTML object>"
      ]
     },
     "execution_count": 2,
     "metadata": {},
     "output_type": "execute_result"
    }
   ],
   "source": [
    "from IPython.core.display import HTML\n",
    "def  css_styling():\n",
    "    styles = open(\"./custom.css\", \"r\").read()\n",
    "    return HTML(styles)\n",
    "css_styling()"
   ]
  }
 ],
 "metadata": {
  "kernelspec": {
   "display_name": "Python [default]",
   "language": "python",
   "name": "python2"
  },
  "language_info": {
   "codemirror_mode": {
    "name": "ipython",
    "version": 2
   },
   "file_extension": ".py",
   "mimetype": "text/x-python",
   "name": "python",
   "nbconvert_exporter": "python",
   "pygments_lexer": "ipython2",
   "version": "2.7.13"
  }
 },
 "nbformat": 4,
 "nbformat_minor": 1
}
